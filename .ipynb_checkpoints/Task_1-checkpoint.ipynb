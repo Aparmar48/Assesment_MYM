{
 "cells": [
  {
   "cell_type": "code",
   "execution_count": 1,
   "id": "28c10b84",
   "metadata": {},
   "outputs": [],
   "source": [
    "# Import libraries\n",
    "import pandas as pd\n",
    "import numpy as np\n",
    "import os"
   ]
  },
  {
   "cell_type": "code",
   "execution_count": 2,
   "id": "1c01cd97",
   "metadata": {},
   "outputs": [],
   "source": [
    "# Read CSV File\n",
    "data =  pd.read_csv('amazon.csv')"
   ]
  },
  {
   "cell_type": "code",
   "execution_count": 3,
   "id": "93e2df73",
   "metadata": {},
   "outputs": [
    {
     "data": {
      "text/html": [
       "<div>\n",
       "<style scoped>\n",
       "    .dataframe tbody tr th:only-of-type {\n",
       "        vertical-align: middle;\n",
       "    }\n",
       "\n",
       "    .dataframe tbody tr th {\n",
       "        vertical-align: top;\n",
       "    }\n",
       "\n",
       "    .dataframe thead th {\n",
       "        text-align: right;\n",
       "    }\n",
       "</style>\n",
       "<table border=\"1\" class=\"dataframe\">\n",
       "  <thead>\n",
       "    <tr style=\"text-align: right;\">\n",
       "      <th></th>\n",
       "      <th>product_id</th>\n",
       "      <th>product_name</th>\n",
       "      <th>category</th>\n",
       "      <th>discounted_price</th>\n",
       "      <th>actual_price</th>\n",
       "      <th>discount_percentage</th>\n",
       "      <th>rating</th>\n",
       "      <th>rating_count</th>\n",
       "      <th>about_product</th>\n",
       "      <th>user_id</th>\n",
       "      <th>user_name</th>\n",
       "      <th>review_id</th>\n",
       "      <th>review_title</th>\n",
       "      <th>review_content</th>\n",
       "      <th>img_link</th>\n",
       "      <th>product_link</th>\n",
       "    </tr>\n",
       "  </thead>\n",
       "  <tbody>\n",
       "    <tr>\n",
       "      <th>0</th>\n",
       "      <td>B07JW9H4J1</td>\n",
       "      <td>Wayona Nylon Braided USB to Lightning Fast Cha...</td>\n",
       "      <td>Computers&amp;Accessories|Accessories&amp;Peripherals|...</td>\n",
       "      <td>₹399</td>\n",
       "      <td>₹1,099</td>\n",
       "      <td>64%</td>\n",
       "      <td>4.2</td>\n",
       "      <td>24,269</td>\n",
       "      <td>High Compatibility : Compatible With iPhone 12...</td>\n",
       "      <td>AG3D6O4STAQKAY2UVGEUV46KN35Q,AHMY5CWJMMK5BJRBB...</td>\n",
       "      <td>Manav,Adarsh gupta,Sundeep,S.Sayeed Ahmed,jasp...</td>\n",
       "      <td>R3HXWT0LRP0NMF,R2AJM3LFTLZHFO,R6AQJGUP6P86,R1K...</td>\n",
       "      <td>Satisfied,Charging is really fast,Value for mo...</td>\n",
       "      <td>Looks durable Charging is fine tooNo complains...</td>\n",
       "      <td>https://m.media-amazon.com/images/W/WEBP_40237...</td>\n",
       "      <td>https://www.amazon.in/Wayona-Braided-WN3LG1-Sy...</td>\n",
       "    </tr>\n",
       "    <tr>\n",
       "      <th>1</th>\n",
       "      <td>B098NS6PVG</td>\n",
       "      <td>Ambrane Unbreakable 60W / 3A Fast Charging 1.5...</td>\n",
       "      <td>Computers&amp;Accessories|Accessories&amp;Peripherals|...</td>\n",
       "      <td>₹199</td>\n",
       "      <td>₹349</td>\n",
       "      <td>43%</td>\n",
       "      <td>4.0</td>\n",
       "      <td>43,994</td>\n",
       "      <td>Compatible with all Type C enabled devices, be...</td>\n",
       "      <td>AECPFYFQVRUWC3KGNLJIOREFP5LQ,AGYYVPDD7YG7FYNBX...</td>\n",
       "      <td>ArdKn,Nirbhay kumar,Sagar Viswanathan,Asp,Plac...</td>\n",
       "      <td>RGIQEG07R9HS2,R1SMWZQ86XIN8U,R2J3Y1WL29GWDE,RY...</td>\n",
       "      <td>A Good Braided Cable for Your Type C Device,Go...</td>\n",
       "      <td>I ordered this cable to connect my phone to An...</td>\n",
       "      <td>https://m.media-amazon.com/images/W/WEBP_40237...</td>\n",
       "      <td>https://www.amazon.in/Ambrane-Unbreakable-Char...</td>\n",
       "    </tr>\n",
       "    <tr>\n",
       "      <th>2</th>\n",
       "      <td>B096MSW6CT</td>\n",
       "      <td>Sounce Fast Phone Charging Cable &amp; Data Sync U...</td>\n",
       "      <td>Computers&amp;Accessories|Accessories&amp;Peripherals|...</td>\n",
       "      <td>₹199</td>\n",
       "      <td>₹1,899</td>\n",
       "      <td>90%</td>\n",
       "      <td>3.9</td>\n",
       "      <td>7,928</td>\n",
       "      <td>【 Fast Charger&amp; Data Sync】-With built-in safet...</td>\n",
       "      <td>AGU3BBQ2V2DDAMOAKGFAWDDQ6QHA,AESFLDV2PT363T2AQ...</td>\n",
       "      <td>Kunal,Himanshu,viswanath,sai niharka,saqib mal...</td>\n",
       "      <td>R3J3EQQ9TZI5ZJ,R3E7WBGK7ID0KV,RWU79XKQ6I1QF,R2...</td>\n",
       "      <td>Good speed for earlier versions,Good Product,W...</td>\n",
       "      <td>Not quite durable and sturdy,https://m.media-a...</td>\n",
       "      <td>https://m.media-amazon.com/images/W/WEBP_40237...</td>\n",
       "      <td>https://www.amazon.in/Sounce-iPhone-Charging-C...</td>\n",
       "    </tr>\n",
       "    <tr>\n",
       "      <th>3</th>\n",
       "      <td>B08HDJ86NZ</td>\n",
       "      <td>boAt Deuce USB 300 2 in 1 Type-C &amp; Micro USB S...</td>\n",
       "      <td>Computers&amp;Accessories|Accessories&amp;Peripherals|...</td>\n",
       "      <td>₹329</td>\n",
       "      <td>₹699</td>\n",
       "      <td>53%</td>\n",
       "      <td>4.2</td>\n",
       "      <td>94,363</td>\n",
       "      <td>The boAt Deuce USB 300 2 in 1 cable is compati...</td>\n",
       "      <td>AEWAZDZZJLQUYVOVGBEUKSLXHQ5A,AG5HTSFRRE6NL3M5S...</td>\n",
       "      <td>Omkar dhale,JD,HEMALATHA,Ajwadh a.,amar singh ...</td>\n",
       "      <td>R3EEUZKKK9J36I,R3HJVYCLYOY554,REDECAZ7AMPQC,R1...</td>\n",
       "      <td>Good product,Good one,Nice,Really nice product...</td>\n",
       "      <td>Good product,long wire,Charges good,Nice,I bou...</td>\n",
       "      <td>https://m.media-amazon.com/images/I/41V5FtEWPk...</td>\n",
       "      <td>https://www.amazon.in/Deuce-300-Resistant-Tang...</td>\n",
       "    </tr>\n",
       "    <tr>\n",
       "      <th>4</th>\n",
       "      <td>B08CF3B7N1</td>\n",
       "      <td>Portronics Konnect L 1.2M Fast Charging 3A 8 P...</td>\n",
       "      <td>Computers&amp;Accessories|Accessories&amp;Peripherals|...</td>\n",
       "      <td>₹154</td>\n",
       "      <td>₹399</td>\n",
       "      <td>61%</td>\n",
       "      <td>4.2</td>\n",
       "      <td>16,905</td>\n",
       "      <td>[CHARGE &amp; SYNC FUNCTION]- This cable comes wit...</td>\n",
       "      <td>AE3Q6KSUK5P75D5HFYHCRAOLODSA,AFUGIFH5ZAFXRDSZH...</td>\n",
       "      <td>rahuls6099,Swasat Borah,Ajay Wadke,Pranali,RVK...</td>\n",
       "      <td>R1BP4L2HH9TFUP,R16PVJEXKV6QZS,R2UPDB81N66T4P,R...</td>\n",
       "      <td>As good as original,Decent,Good one for second...</td>\n",
       "      <td>Bought this instead of original apple, does th...</td>\n",
       "      <td>https://m.media-amazon.com/images/W/WEBP_40237...</td>\n",
       "      <td>https://www.amazon.in/Portronics-Konnect-POR-1...</td>\n",
       "    </tr>\n",
       "  </tbody>\n",
       "</table>\n",
       "</div>"
      ],
      "text/plain": [
       "   product_id                                       product_name   \n",
       "0  B07JW9H4J1  Wayona Nylon Braided USB to Lightning Fast Cha...  \\\n",
       "1  B098NS6PVG  Ambrane Unbreakable 60W / 3A Fast Charging 1.5...   \n",
       "2  B096MSW6CT  Sounce Fast Phone Charging Cable & Data Sync U...   \n",
       "3  B08HDJ86NZ  boAt Deuce USB 300 2 in 1 Type-C & Micro USB S...   \n",
       "4  B08CF3B7N1  Portronics Konnect L 1.2M Fast Charging 3A 8 P...   \n",
       "\n",
       "                                            category discounted_price   \n",
       "0  Computers&Accessories|Accessories&Peripherals|...             ₹399  \\\n",
       "1  Computers&Accessories|Accessories&Peripherals|...             ₹199   \n",
       "2  Computers&Accessories|Accessories&Peripherals|...             ₹199   \n",
       "3  Computers&Accessories|Accessories&Peripherals|...             ₹329   \n",
       "4  Computers&Accessories|Accessories&Peripherals|...             ₹154   \n",
       "\n",
       "  actual_price discount_percentage rating rating_count   \n",
       "0       ₹1,099                 64%    4.2       24,269  \\\n",
       "1         ₹349                 43%    4.0       43,994   \n",
       "2       ₹1,899                 90%    3.9        7,928   \n",
       "3         ₹699                 53%    4.2       94,363   \n",
       "4         ₹399                 61%    4.2       16,905   \n",
       "\n",
       "                                       about_product   \n",
       "0  High Compatibility : Compatible With iPhone 12...  \\\n",
       "1  Compatible with all Type C enabled devices, be...   \n",
       "2  【 Fast Charger& Data Sync】-With built-in safet...   \n",
       "3  The boAt Deuce USB 300 2 in 1 cable is compati...   \n",
       "4  [CHARGE & SYNC FUNCTION]- This cable comes wit...   \n",
       "\n",
       "                                             user_id   \n",
       "0  AG3D6O4STAQKAY2UVGEUV46KN35Q,AHMY5CWJMMK5BJRBB...  \\\n",
       "1  AECPFYFQVRUWC3KGNLJIOREFP5LQ,AGYYVPDD7YG7FYNBX...   \n",
       "2  AGU3BBQ2V2DDAMOAKGFAWDDQ6QHA,AESFLDV2PT363T2AQ...   \n",
       "3  AEWAZDZZJLQUYVOVGBEUKSLXHQ5A,AG5HTSFRRE6NL3M5S...   \n",
       "4  AE3Q6KSUK5P75D5HFYHCRAOLODSA,AFUGIFH5ZAFXRDSZH...   \n",
       "\n",
       "                                           user_name   \n",
       "0  Manav,Adarsh gupta,Sundeep,S.Sayeed Ahmed,jasp...  \\\n",
       "1  ArdKn,Nirbhay kumar,Sagar Viswanathan,Asp,Plac...   \n",
       "2  Kunal,Himanshu,viswanath,sai niharka,saqib mal...   \n",
       "3  Omkar dhale,JD,HEMALATHA,Ajwadh a.,amar singh ...   \n",
       "4  rahuls6099,Swasat Borah,Ajay Wadke,Pranali,RVK...   \n",
       "\n",
       "                                           review_id   \n",
       "0  R3HXWT0LRP0NMF,R2AJM3LFTLZHFO,R6AQJGUP6P86,R1K...  \\\n",
       "1  RGIQEG07R9HS2,R1SMWZQ86XIN8U,R2J3Y1WL29GWDE,RY...   \n",
       "2  R3J3EQQ9TZI5ZJ,R3E7WBGK7ID0KV,RWU79XKQ6I1QF,R2...   \n",
       "3  R3EEUZKKK9J36I,R3HJVYCLYOY554,REDECAZ7AMPQC,R1...   \n",
       "4  R1BP4L2HH9TFUP,R16PVJEXKV6QZS,R2UPDB81N66T4P,R...   \n",
       "\n",
       "                                        review_title   \n",
       "0  Satisfied,Charging is really fast,Value for mo...  \\\n",
       "1  A Good Braided Cable for Your Type C Device,Go...   \n",
       "2  Good speed for earlier versions,Good Product,W...   \n",
       "3  Good product,Good one,Nice,Really nice product...   \n",
       "4  As good as original,Decent,Good one for second...   \n",
       "\n",
       "                                      review_content   \n",
       "0  Looks durable Charging is fine tooNo complains...  \\\n",
       "1  I ordered this cable to connect my phone to An...   \n",
       "2  Not quite durable and sturdy,https://m.media-a...   \n",
       "3  Good product,long wire,Charges good,Nice,I bou...   \n",
       "4  Bought this instead of original apple, does th...   \n",
       "\n",
       "                                            img_link   \n",
       "0  https://m.media-amazon.com/images/W/WEBP_40237...  \\\n",
       "1  https://m.media-amazon.com/images/W/WEBP_40237...   \n",
       "2  https://m.media-amazon.com/images/W/WEBP_40237...   \n",
       "3  https://m.media-amazon.com/images/I/41V5FtEWPk...   \n",
       "4  https://m.media-amazon.com/images/W/WEBP_40237...   \n",
       "\n",
       "                                        product_link  \n",
       "0  https://www.amazon.in/Wayona-Braided-WN3LG1-Sy...  \n",
       "1  https://www.amazon.in/Ambrane-Unbreakable-Char...  \n",
       "2  https://www.amazon.in/Sounce-iPhone-Charging-C...  \n",
       "3  https://www.amazon.in/Deuce-300-Resistant-Tang...  \n",
       "4  https://www.amazon.in/Portronics-Konnect-POR-1...  "
      ]
     },
     "execution_count": 3,
     "metadata": {},
     "output_type": "execute_result"
    }
   ],
   "source": [
    "data.head()"
   ]
  },
  {
   "cell_type": "code",
   "execution_count": 4,
   "id": "1122b84e",
   "metadata": {},
   "outputs": [
    {
     "name": "stdout",
     "output_type": "stream",
     "text": [
      "<class 'pandas.core.frame.DataFrame'>\n",
      "RangeIndex: 1465 entries, 0 to 1464\n",
      "Data columns (total 16 columns):\n",
      " #   Column               Non-Null Count  Dtype \n",
      "---  ------               --------------  ----- \n",
      " 0   product_id           1465 non-null   object\n",
      " 1   product_name         1465 non-null   object\n",
      " 2   category             1465 non-null   object\n",
      " 3   discounted_price     1465 non-null   object\n",
      " 4   actual_price         1465 non-null   object\n",
      " 5   discount_percentage  1465 non-null   object\n",
      " 6   rating               1465 non-null   object\n",
      " 7   rating_count         1463 non-null   object\n",
      " 8   about_product        1465 non-null   object\n",
      " 9   user_id              1465 non-null   object\n",
      " 10  user_name            1465 non-null   object\n",
      " 11  review_id            1465 non-null   object\n",
      " 12  review_title         1465 non-null   object\n",
      " 13  review_content       1465 non-null   object\n",
      " 14  img_link             1465 non-null   object\n",
      " 15  product_link         1465 non-null   object\n",
      "dtypes: object(16)\n",
      "memory usage: 183.2+ KB\n"
     ]
    }
   ],
   "source": [
    "data.info()"
   ]
  },
  {
   "cell_type": "code",
   "execution_count": 5,
   "id": "691a2b54",
   "metadata": {},
   "outputs": [
    {
     "data": {
      "text/plain": [
       "(1465, 16)"
      ]
     },
     "execution_count": 5,
     "metadata": {},
     "output_type": "execute_result"
    }
   ],
   "source": [
    "# List total number of Columns and Rows\n",
    "data.shape[0], data.shape[1]"
   ]
  },
  {
   "cell_type": "code",
   "execution_count": 6,
   "id": "f62c0352",
   "metadata": {},
   "outputs": [
    {
     "data": {
      "text/html": [
       "<div>\n",
       "<style scoped>\n",
       "    .dataframe tbody tr th:only-of-type {\n",
       "        vertical-align: middle;\n",
       "    }\n",
       "\n",
       "    .dataframe tbody tr th {\n",
       "        vertical-align: top;\n",
       "    }\n",
       "\n",
       "    .dataframe thead th {\n",
       "        text-align: right;\n",
       "    }\n",
       "</style>\n",
       "<table border=\"1\" class=\"dataframe\">\n",
       "  <thead>\n",
       "    <tr style=\"text-align: right;\">\n",
       "      <th></th>\n",
       "      <th>Product ID</th>\n",
       "      <th>Product</th>\n",
       "      <th>Category</th>\n",
       "      <th>Discounted Price</th>\n",
       "      <th>Actual Price</th>\n",
       "      <th>Discount Per</th>\n",
       "      <th>Rating</th>\n",
       "      <th>Rating Count</th>\n",
       "      <th>Description</th>\n",
       "      <th>User ID</th>\n",
       "      <th>User Name</th>\n",
       "      <th>Review ID</th>\n",
       "      <th>Review</th>\n",
       "      <th>Content</th>\n",
       "      <th>Image Link</th>\n",
       "      <th>Product Link</th>\n",
       "    </tr>\n",
       "  </thead>\n",
       "  <tbody>\n",
       "    <tr>\n",
       "      <th>0</th>\n",
       "      <td>B07JW9H4J1</td>\n",
       "      <td>Wayona Nylon Braided USB to Lightning Fast Cha...</td>\n",
       "      <td>Computers&amp;Accessories|Accessories&amp;Peripherals|...</td>\n",
       "      <td>₹399</td>\n",
       "      <td>₹1,099</td>\n",
       "      <td>64%</td>\n",
       "      <td>4.2</td>\n",
       "      <td>24,269</td>\n",
       "      <td>High Compatibility : Compatible With iPhone 12...</td>\n",
       "      <td>AG3D6O4STAQKAY2UVGEUV46KN35Q,AHMY5CWJMMK5BJRBB...</td>\n",
       "      <td>Manav,Adarsh gupta,Sundeep,S.Sayeed Ahmed,jasp...</td>\n",
       "      <td>R3HXWT0LRP0NMF,R2AJM3LFTLZHFO,R6AQJGUP6P86,R1K...</td>\n",
       "      <td>Satisfied,Charging is really fast,Value for mo...</td>\n",
       "      <td>Looks durable Charging is fine tooNo complains...</td>\n",
       "      <td>https://m.media-amazon.com/images/W/WEBP_40237...</td>\n",
       "      <td>https://www.amazon.in/Wayona-Braided-WN3LG1-Sy...</td>\n",
       "    </tr>\n",
       "    <tr>\n",
       "      <th>1</th>\n",
       "      <td>B098NS6PVG</td>\n",
       "      <td>Ambrane Unbreakable 60W / 3A Fast Charging 1.5...</td>\n",
       "      <td>Computers&amp;Accessories|Accessories&amp;Peripherals|...</td>\n",
       "      <td>₹199</td>\n",
       "      <td>₹349</td>\n",
       "      <td>43%</td>\n",
       "      <td>4.0</td>\n",
       "      <td>43,994</td>\n",
       "      <td>Compatible with all Type C enabled devices, be...</td>\n",
       "      <td>AECPFYFQVRUWC3KGNLJIOREFP5LQ,AGYYVPDD7YG7FYNBX...</td>\n",
       "      <td>ArdKn,Nirbhay kumar,Sagar Viswanathan,Asp,Plac...</td>\n",
       "      <td>RGIQEG07R9HS2,R1SMWZQ86XIN8U,R2J3Y1WL29GWDE,RY...</td>\n",
       "      <td>A Good Braided Cable for Your Type C Device,Go...</td>\n",
       "      <td>I ordered this cable to connect my phone to An...</td>\n",
       "      <td>https://m.media-amazon.com/images/W/WEBP_40237...</td>\n",
       "      <td>https://www.amazon.in/Ambrane-Unbreakable-Char...</td>\n",
       "    </tr>\n",
       "    <tr>\n",
       "      <th>2</th>\n",
       "      <td>B096MSW6CT</td>\n",
       "      <td>Sounce Fast Phone Charging Cable &amp; Data Sync U...</td>\n",
       "      <td>Computers&amp;Accessories|Accessories&amp;Peripherals|...</td>\n",
       "      <td>₹199</td>\n",
       "      <td>₹1,899</td>\n",
       "      <td>90%</td>\n",
       "      <td>3.9</td>\n",
       "      <td>7,928</td>\n",
       "      <td>【 Fast Charger&amp; Data Sync】-With built-in safet...</td>\n",
       "      <td>AGU3BBQ2V2DDAMOAKGFAWDDQ6QHA,AESFLDV2PT363T2AQ...</td>\n",
       "      <td>Kunal,Himanshu,viswanath,sai niharka,saqib mal...</td>\n",
       "      <td>R3J3EQQ9TZI5ZJ,R3E7WBGK7ID0KV,RWU79XKQ6I1QF,R2...</td>\n",
       "      <td>Good speed for earlier versions,Good Product,W...</td>\n",
       "      <td>Not quite durable and sturdy,https://m.media-a...</td>\n",
       "      <td>https://m.media-amazon.com/images/W/WEBP_40237...</td>\n",
       "      <td>https://www.amazon.in/Sounce-iPhone-Charging-C...</td>\n",
       "    </tr>\n",
       "    <tr>\n",
       "      <th>3</th>\n",
       "      <td>B08HDJ86NZ</td>\n",
       "      <td>boAt Deuce USB 300 2 in 1 Type-C &amp; Micro USB S...</td>\n",
       "      <td>Computers&amp;Accessories|Accessories&amp;Peripherals|...</td>\n",
       "      <td>₹329</td>\n",
       "      <td>₹699</td>\n",
       "      <td>53%</td>\n",
       "      <td>4.2</td>\n",
       "      <td>94,363</td>\n",
       "      <td>The boAt Deuce USB 300 2 in 1 cable is compati...</td>\n",
       "      <td>AEWAZDZZJLQUYVOVGBEUKSLXHQ5A,AG5HTSFRRE6NL3M5S...</td>\n",
       "      <td>Omkar dhale,JD,HEMALATHA,Ajwadh a.,amar singh ...</td>\n",
       "      <td>R3EEUZKKK9J36I,R3HJVYCLYOY554,REDECAZ7AMPQC,R1...</td>\n",
       "      <td>Good product,Good one,Nice,Really nice product...</td>\n",
       "      <td>Good product,long wire,Charges good,Nice,I bou...</td>\n",
       "      <td>https://m.media-amazon.com/images/I/41V5FtEWPk...</td>\n",
       "      <td>https://www.amazon.in/Deuce-300-Resistant-Tang...</td>\n",
       "    </tr>\n",
       "    <tr>\n",
       "      <th>4</th>\n",
       "      <td>B08CF3B7N1</td>\n",
       "      <td>Portronics Konnect L 1.2M Fast Charging 3A 8 P...</td>\n",
       "      <td>Computers&amp;Accessories|Accessories&amp;Peripherals|...</td>\n",
       "      <td>₹154</td>\n",
       "      <td>₹399</td>\n",
       "      <td>61%</td>\n",
       "      <td>4.2</td>\n",
       "      <td>16,905</td>\n",
       "      <td>[CHARGE &amp; SYNC FUNCTION]- This cable comes wit...</td>\n",
       "      <td>AE3Q6KSUK5P75D5HFYHCRAOLODSA,AFUGIFH5ZAFXRDSZH...</td>\n",
       "      <td>rahuls6099,Swasat Borah,Ajay Wadke,Pranali,RVK...</td>\n",
       "      <td>R1BP4L2HH9TFUP,R16PVJEXKV6QZS,R2UPDB81N66T4P,R...</td>\n",
       "      <td>As good as original,Decent,Good one for second...</td>\n",
       "      <td>Bought this instead of original apple, does th...</td>\n",
       "      <td>https://m.media-amazon.com/images/W/WEBP_40237...</td>\n",
       "      <td>https://www.amazon.in/Portronics-Konnect-POR-1...</td>\n",
       "    </tr>\n",
       "  </tbody>\n",
       "</table>\n",
       "</div>"
      ],
      "text/plain": [
       "   Product ID                                            Product   \n",
       "0  B07JW9H4J1  Wayona Nylon Braided USB to Lightning Fast Cha...  \\\n",
       "1  B098NS6PVG  Ambrane Unbreakable 60W / 3A Fast Charging 1.5...   \n",
       "2  B096MSW6CT  Sounce Fast Phone Charging Cable & Data Sync U...   \n",
       "3  B08HDJ86NZ  boAt Deuce USB 300 2 in 1 Type-C & Micro USB S...   \n",
       "4  B08CF3B7N1  Portronics Konnect L 1.2M Fast Charging 3A 8 P...   \n",
       "\n",
       "                                            Category Discounted Price   \n",
       "0  Computers&Accessories|Accessories&Peripherals|...             ₹399  \\\n",
       "1  Computers&Accessories|Accessories&Peripherals|...             ₹199   \n",
       "2  Computers&Accessories|Accessories&Peripherals|...             ₹199   \n",
       "3  Computers&Accessories|Accessories&Peripherals|...             ₹329   \n",
       "4  Computers&Accessories|Accessories&Peripherals|...             ₹154   \n",
       "\n",
       "  Actual Price Discount Per Rating Rating Count   \n",
       "0       ₹1,099          64%    4.2       24,269  \\\n",
       "1         ₹349          43%    4.0       43,994   \n",
       "2       ₹1,899          90%    3.9        7,928   \n",
       "3         ₹699          53%    4.2       94,363   \n",
       "4         ₹399          61%    4.2       16,905   \n",
       "\n",
       "                                         Description   \n",
       "0  High Compatibility : Compatible With iPhone 12...  \\\n",
       "1  Compatible with all Type C enabled devices, be...   \n",
       "2  【 Fast Charger& Data Sync】-With built-in safet...   \n",
       "3  The boAt Deuce USB 300 2 in 1 cable is compati...   \n",
       "4  [CHARGE & SYNC FUNCTION]- This cable comes wit...   \n",
       "\n",
       "                                             User ID   \n",
       "0  AG3D6O4STAQKAY2UVGEUV46KN35Q,AHMY5CWJMMK5BJRBB...  \\\n",
       "1  AECPFYFQVRUWC3KGNLJIOREFP5LQ,AGYYVPDD7YG7FYNBX...   \n",
       "2  AGU3BBQ2V2DDAMOAKGFAWDDQ6QHA,AESFLDV2PT363T2AQ...   \n",
       "3  AEWAZDZZJLQUYVOVGBEUKSLXHQ5A,AG5HTSFRRE6NL3M5S...   \n",
       "4  AE3Q6KSUK5P75D5HFYHCRAOLODSA,AFUGIFH5ZAFXRDSZH...   \n",
       "\n",
       "                                           User Name   \n",
       "0  Manav,Adarsh gupta,Sundeep,S.Sayeed Ahmed,jasp...  \\\n",
       "1  ArdKn,Nirbhay kumar,Sagar Viswanathan,Asp,Plac...   \n",
       "2  Kunal,Himanshu,viswanath,sai niharka,saqib mal...   \n",
       "3  Omkar dhale,JD,HEMALATHA,Ajwadh a.,amar singh ...   \n",
       "4  rahuls6099,Swasat Borah,Ajay Wadke,Pranali,RVK...   \n",
       "\n",
       "                                           Review ID   \n",
       "0  R3HXWT0LRP0NMF,R2AJM3LFTLZHFO,R6AQJGUP6P86,R1K...  \\\n",
       "1  RGIQEG07R9HS2,R1SMWZQ86XIN8U,R2J3Y1WL29GWDE,RY...   \n",
       "2  R3J3EQQ9TZI5ZJ,R3E7WBGK7ID0KV,RWU79XKQ6I1QF,R2...   \n",
       "3  R3EEUZKKK9J36I,R3HJVYCLYOY554,REDECAZ7AMPQC,R1...   \n",
       "4  R1BP4L2HH9TFUP,R16PVJEXKV6QZS,R2UPDB81N66T4P,R...   \n",
       "\n",
       "                                              Review   \n",
       "0  Satisfied,Charging is really fast,Value for mo...  \\\n",
       "1  A Good Braided Cable for Your Type C Device,Go...   \n",
       "2  Good speed for earlier versions,Good Product,W...   \n",
       "3  Good product,Good one,Nice,Really nice product...   \n",
       "4  As good as original,Decent,Good one for second...   \n",
       "\n",
       "                                             Content   \n",
       "0  Looks durable Charging is fine tooNo complains...  \\\n",
       "1  I ordered this cable to connect my phone to An...   \n",
       "2  Not quite durable and sturdy,https://m.media-a...   \n",
       "3  Good product,long wire,Charges good,Nice,I bou...   \n",
       "4  Bought this instead of original apple, does th...   \n",
       "\n",
       "                                          Image Link   \n",
       "0  https://m.media-amazon.com/images/W/WEBP_40237...  \\\n",
       "1  https://m.media-amazon.com/images/W/WEBP_40237...   \n",
       "2  https://m.media-amazon.com/images/W/WEBP_40237...   \n",
       "3  https://m.media-amazon.com/images/I/41V5FtEWPk...   \n",
       "4  https://m.media-amazon.com/images/W/WEBP_40237...   \n",
       "\n",
       "                                        Product Link  \n",
       "0  https://www.amazon.in/Wayona-Braided-WN3LG1-Sy...  \n",
       "1  https://www.amazon.in/Ambrane-Unbreakable-Char...  \n",
       "2  https://www.amazon.in/Sounce-iPhone-Charging-C...  \n",
       "3  https://www.amazon.in/Deuce-300-Resistant-Tang...  \n",
       "4  https://www.amazon.in/Portronics-Konnect-POR-1...  "
      ]
     },
     "execution_count": 6,
     "metadata": {},
     "output_type": "execute_result"
    }
   ],
   "source": [
    "# Rename the column headers\n",
    "New_headers = {\"product_id\": \"Product ID\", \"product_name\": \"Product\", \"category\": \"Category\", \n",
    "               \"discounted_price\": \"Discounted Price\", \"actual_price\": \"Actual Price\", \"discount_percentage\": \"Discount Per\",\n",
    "               \"rating\": \"Rating\", \"rating_count\": \"Rating Count\", \"about_product\": \"Description\", \"user_id\": \"User ID\",\n",
    "               \"user_name\": \"User Name\", \"review_id\": \"Review ID\", \"review_title\": \"Review\", \"review_content\": \"Content\",\n",
    "               \"img_link\": \"Image Link\", \"product_link\": \"Product Link\"}\n",
    "data = data.rename(columns = New_headers)\n",
    "data.head()"
   ]
  },
  {
   "cell_type": "code",
   "execution_count": 7,
   "id": "b6d59cd8",
   "metadata": {},
   "outputs": [],
   "source": [
    "data.drop_duplicates(inplace=True)"
   ]
  },
  {
   "cell_type": "code",
   "execution_count": 8,
   "id": "8ae21e22",
   "metadata": {},
   "outputs": [],
   "source": [
    "# Remove currency sign and convert data to numeric values\n",
    "data['Discounted Price'] = data['Discounted Price'].str.replace('₹', '').str.replace(',','').astype(float)\n",
    "data['Actual Price'] = data['Actual Price'].str.replace('₹', '').str.replace(',','').astype(float)"
   ]
  },
  {
   "cell_type": "markdown",
   "id": "41191fac",
   "metadata": {},
   "source": [
    "# Dealing with duplicate and null Values"
   ]
  },
  {
   "cell_type": "code",
   "execution_count": 9,
   "id": "8d995445",
   "metadata": {},
   "outputs": [
    {
     "data": {
      "text/plain": [
       "False    1465\n",
       "Name: count, dtype: int64"
      ]
     },
     "execution_count": 9,
     "metadata": {},
     "output_type": "execute_result"
    }
   ],
   "source": [
    "# Check for duplicated rows\n",
    "data.duplicated().value_counts()"
   ]
  },
  {
   "cell_type": "code",
   "execution_count": 10,
   "id": "3ba3963c",
   "metadata": {},
   "outputs": [
    {
     "data": {
      "text/html": [
       "<div>\n",
       "<style scoped>\n",
       "    .dataframe tbody tr th:only-of-type {\n",
       "        vertical-align: middle;\n",
       "    }\n",
       "\n",
       "    .dataframe tbody tr th {\n",
       "        vertical-align: top;\n",
       "    }\n",
       "\n",
       "    .dataframe thead th {\n",
       "        text-align: right;\n",
       "    }\n",
       "</style>\n",
       "<table border=\"1\" class=\"dataframe\">\n",
       "  <thead>\n",
       "    <tr style=\"text-align: right;\">\n",
       "      <th></th>\n",
       "      <th>Product ID</th>\n",
       "      <th>Product</th>\n",
       "      <th>Category</th>\n",
       "      <th>Discounted Price</th>\n",
       "      <th>Actual Price</th>\n",
       "      <th>Discount Per</th>\n",
       "      <th>Rating</th>\n",
       "      <th>Rating Count</th>\n",
       "      <th>Description</th>\n",
       "      <th>User ID</th>\n",
       "      <th>User Name</th>\n",
       "      <th>Review ID</th>\n",
       "      <th>Review</th>\n",
       "      <th>Content</th>\n",
       "      <th>Image Link</th>\n",
       "      <th>Product Link</th>\n",
       "    </tr>\n",
       "  </thead>\n",
       "  <tbody>\n",
       "    <tr>\n",
       "      <th>290</th>\n",
       "      <td>B09TY4MSH3</td>\n",
       "      <td>Firestick Remote</td>\n",
       "      <td>Electronics|HomeTheater,TV&amp;Video|Accessories|R...</td>\n",
       "      <td>1289.0</td>\n",
       "      <td>2499.0</td>\n",
       "      <td>48%</td>\n",
       "      <td>3.3</td>\n",
       "      <td>73</td>\n",
       "      <td>by JBDE | Compatible For Amazon Fire TV Stick ...</td>\n",
       "      <td>AHH74UTDYQPVBMM4HEEMRAU2DNMQ,AEZYVA7F52G2DCIUP...</td>\n",
       "      <td>Harish Thirunahari,Gajanan Hirde,Tomi breeze,v...</td>\n",
       "      <td>R39CZQR3ZPJ0Q7,R1XRT2636AEQEO,R2BSV4B70RKKC8,R...</td>\n",
       "      <td>Not how original remote works,Chinese quality,...</td>\n",
       "      <td>I bought this remote as My original remote of ...</td>\n",
       "      <td>https://m.media-amazon.com/images/I/31jcyZIAWW...</td>\n",
       "      <td>https://www.amazon.in/V-smash-Firestick-Remote...</td>\n",
       "    </tr>\n",
       "    <tr>\n",
       "      <th>296</th>\n",
       "      <td>B09HK9JH4F</td>\n",
       "      <td>Smashtronics® - Case for Firetv Remote, Fire S...</td>\n",
       "      <td>Electronics|HomeTheater,TV&amp;Video|Accessories|R...</td>\n",
       "      <td>199.0</td>\n",
       "      <td>399.0</td>\n",
       "      <td>50%</td>\n",
       "      <td>4.2</td>\n",
       "      <td>1,335</td>\n",
       "      <td>【100% Fits】Specially designed for Fire TV Stic...</td>\n",
       "      <td>AHGRRV5SETS34URXKM5JR365ZGKA,AFLOF6ZEMEH5APN3L...</td>\n",
       "      <td>Princey,Subodh Gupta,Amazon Customer,Ram Sarik...</td>\n",
       "      <td>RCI40FPILZN2J,R33GJM990WL2D,R2IZDWTSBD3OJD,R18...</td>\n",
       "      <td>Cover is Little loose for Fire remote cover,I ...</td>\n",
       "      <td>All is good except little loose cover,I ordere...</td>\n",
       "      <td>https://m.media-amazon.com/images/W/WEBP_40237...</td>\n",
       "      <td>https://www.amazon.in/Smashtronics%C2%AE-Silic...</td>\n",
       "    </tr>\n",
       "    <tr>\n",
       "      <th>364</th>\n",
       "      <td>B0BF54972T</td>\n",
       "      <td>Fire-Boltt Ninja Call Pro Plus 1.83\" Smart Wat...</td>\n",
       "      <td>Electronics|WearableTechnology|SmartWatches</td>\n",
       "      <td>1799.0</td>\n",
       "      <td>19999.0</td>\n",
       "      <td>91%</td>\n",
       "      <td>4.2</td>\n",
       "      <td>13,937</td>\n",
       "      <td>Fire-Boltt is India' No 1 Wearable Watch Brand...</td>\n",
       "      <td>AEC6UDCEAUIBIFHGQDQ4KR67GC4A,AHRKSUOZXKKDERRY3...</td>\n",
       "      <td>venkatesh kg,Raghuram,YOGESH,Manan Parmar,Niku...</td>\n",
       "      <td>R1PKIMKR1E8X8T,R23UV7ZBIEEZD3,RYRHNVDKS5RFY,RS...</td>\n",
       "      <td>Worth the money,Good smart watch,the screen do...</td>\n",
       "      <td>I liked it, worth the money, light weight and ...</td>\n",
       "      <td>https://m.media-amazon.com/images/I/41mzbWC6Ak...</td>\n",
       "      <td>https://www.amazon.in/Fire-Boltt-Bluetooth-Cal...</td>\n",
       "    </tr>\n",
       "    <tr>\n",
       "      <th>368</th>\n",
       "      <td>B0BF563HB4</td>\n",
       "      <td>Fire-Boltt Ninja Call Pro Plus 1.83\" Smart Wat...</td>\n",
       "      <td>Electronics|WearableTechnology|SmartWatches</td>\n",
       "      <td>1799.0</td>\n",
       "      <td>19999.0</td>\n",
       "      <td>91%</td>\n",
       "      <td>4.2</td>\n",
       "      <td>13,937</td>\n",
       "      <td>Fire-Boltt is India' No 1 Wearable Watch Brand...</td>\n",
       "      <td>AEC6UDCEAUIBIFHGQDQ4KR67GC4A,AHRKSUOZXKKDERRY3...</td>\n",
       "      <td>venkatesh kg,Raghuram,YOGESH,Manan Parmar,Niku...</td>\n",
       "      <td>R1PKIMKR1E8X8T,R23UV7ZBIEEZD3,RYRHNVDKS5RFY,RS...</td>\n",
       "      <td>Worth the money,Good smart watch,the screen do...</td>\n",
       "      <td>I liked it, worth the money, light weight and ...</td>\n",
       "      <td>https://m.media-amazon.com/images/I/41ivjqdXb0...</td>\n",
       "      <td>https://www.amazon.in/Fire-Boltt-Bluetooth-Cal...</td>\n",
       "    </tr>\n",
       "    <tr>\n",
       "      <th>369</th>\n",
       "      <td>B07JW9H4J1</td>\n",
       "      <td>Wayona Nylon Braided USB to Lightning Fast Cha...</td>\n",
       "      <td>Computers&amp;Accessories|Accessories&amp;Peripherals|...</td>\n",
       "      <td>399.0</td>\n",
       "      <td>1099.0</td>\n",
       "      <td>64%</td>\n",
       "      <td>4.2</td>\n",
       "      <td>24,270</td>\n",
       "      <td>High Compatibility : Compatible With iPhone 12...</td>\n",
       "      <td>AG3D6O4STAQKAY2UVGEUV46KN35Q,AHMY5CWJMMK5BJRBB...</td>\n",
       "      <td>Manav,Adarsh gupta,Sundeep,S.Sayeed Ahmed,jasp...</td>\n",
       "      <td>R3HXWT0LRP0NMF,R2AJM3LFTLZHFO,R6AQJGUP6P86,R1K...</td>\n",
       "      <td>Satisfied,Charging is really fast,Value for mo...</td>\n",
       "      <td>Looks durable Charging is fine tooNo complains...</td>\n",
       "      <td>https://m.media-amazon.com/images/I/51UsScvHQN...</td>\n",
       "      <td>https://www.amazon.in/Wayona-Braided-WN3LG1-Sy...</td>\n",
       "    </tr>\n",
       "    <tr>\n",
       "      <th>...</th>\n",
       "      <td>...</td>\n",
       "      <td>...</td>\n",
       "      <td>...</td>\n",
       "      <td>...</td>\n",
       "      <td>...</td>\n",
       "      <td>...</td>\n",
       "      <td>...</td>\n",
       "      <td>...</td>\n",
       "      <td>...</td>\n",
       "      <td>...</td>\n",
       "      <td>...</td>\n",
       "      <td>...</td>\n",
       "      <td>...</td>\n",
       "      <td>...</td>\n",
       "      <td>...</td>\n",
       "      <td>...</td>\n",
       "    </tr>\n",
       "    <tr>\n",
       "      <th>1007</th>\n",
       "      <td>B0B9BXKBC7</td>\n",
       "      <td>WeCool S5 Long Selfie Stick, with Large Reinfo...</td>\n",
       "      <td>Electronics|Mobiles&amp;Accessories|MobileAccessor...</td>\n",
       "      <td>1799.0</td>\n",
       "      <td>3999.0</td>\n",
       "      <td>55%</td>\n",
       "      <td>4.6</td>\n",
       "      <td>245</td>\n",
       "      <td>64\" Tall Cell Phone Tripods with 7 section adj...</td>\n",
       "      <td>AFPYH3UF3GB4RNX3MX46AXFM2FTQ,AGWEQHJSUA4YCG44R...</td>\n",
       "      <td>Sujili v,Paras Jain,Shailendra,supreeth achar,...</td>\n",
       "      <td>R2MI4KSWYUEMDR,R2MNYKDL2UII1M,R2C6TUBM6IVLB0,R...</td>\n",
       "      <td>Good,Good Product but Little expensive.,Happy ...</td>\n",
       "      <td>Good,Thoda sa kam stable hai, phone lagane ke ...</td>\n",
       "      <td>https://m.media-amazon.com/images/I/41fDM4QUfv...</td>\n",
       "      <td>https://www.amazon.in/WeCool-Reinforced-Functi...</td>\n",
       "    </tr>\n",
       "    <tr>\n",
       "      <th>1010</th>\n",
       "      <td>B07GVGTSLN</td>\n",
       "      <td>Wayona Usb Type C Fast Charger Cable Fast Char...</td>\n",
       "      <td>Computers&amp;Accessories|Accessories&amp;Peripherals|...</td>\n",
       "      <td>325.0</td>\n",
       "      <td>1299.0</td>\n",
       "      <td>75%</td>\n",
       "      <td>4.2</td>\n",
       "      <td>10,576</td>\n",
       "      <td>Fast Charge &amp; Data Sync: Fast charge&amp; data tra...</td>\n",
       "      <td>AEXK37TSBFHSP2TYE63YPKETWQ7Q,AEKMVX2VDNNX4ZFXI...</td>\n",
       "      <td>Sunil Funde,Biju Abraham Thomas,Samir,Rahul Sh...</td>\n",
       "      <td>R10365HEDURWI9,R5RP542IMC4OI,RX2HFWXTTQDTS,R26...</td>\n",
       "      <td>Nice product .,Good quality Braided cable, VFM...</td>\n",
       "      <td>Sturdy packing, good product!,Have used this b...</td>\n",
       "      <td>https://m.media-amazon.com/images/I/41J6oGU8w5...</td>\n",
       "      <td>https://www.amazon.in/Wayona-Cable-Braided-Cha...</td>\n",
       "    </tr>\n",
       "    <tr>\n",
       "      <th>1017</th>\n",
       "      <td>B0B9BD2YL4</td>\n",
       "      <td>KINGONE Wireless Charging Pencil (2nd Generati...</td>\n",
       "      <td>Electronics|Mobiles&amp;Accessories|MobileAccessor...</td>\n",
       "      <td>2599.0</td>\n",
       "      <td>6999.0</td>\n",
       "      <td>63%</td>\n",
       "      <td>4.5</td>\n",
       "      <td>1,526</td>\n",
       "      <td>【2022 latest iPad Magnetic Charging】 The lates...</td>\n",
       "      <td>AEAX7BRPDS3NSYCZQBQDL5DGZDVA,AFI76LT4UP2L3SFJM...</td>\n",
       "      <td>Ak,Jitesh,anil,Umpo,G'DAS ENTERPRISES,Neetu,Va...</td>\n",
       "      <td>R1HOV97NOJFX4W,R3BIRU7WH404ND,RAU26U2KP1OQH,R1...</td>\n",
       "      <td>Quite Good,good pencil,Value for money,Brillia...</td>\n",
       "      <td>After 10 days of use bhaut acha chl rha ha and...</td>\n",
       "      <td>https://m.media-amazon.com/images/I/217Lv1D3bH...</td>\n",
       "      <td>https://www.amazon.in/Wireless-Generation-Sens...</td>\n",
       "    </tr>\n",
       "    <tr>\n",
       "      <th>1018</th>\n",
       "      <td>B0BMXMLSMM</td>\n",
       "      <td>Lapster 65W compatible for OnePlus Dash Warp C...</td>\n",
       "      <td>Computers&amp;Accessories|Accessories&amp;Peripherals|...</td>\n",
       "      <td>199.0</td>\n",
       "      <td>999.0</td>\n",
       "      <td>80%</td>\n",
       "      <td>4.5</td>\n",
       "      <td>127</td>\n",
       "      <td>-1 meter type c to c cable fast charging cable...</td>\n",
       "      <td>AHFENRYJG4LPXDTUGEMG335VICSQ,AGSV37DJ5QTUYOXFJ...</td>\n",
       "      <td>Nadhiyarasan,Saurabh Aggarwal,Dibya,Sai Sriya,...</td>\n",
       "      <td>R14ZOPYFHOYYRQ,R1GQH74NUCJZZ7,R1BNWIYBRSI1Z6,R...</td>\n",
       "      <td>Super charger in lapster,Best among the rest,C...</td>\n",
       "      <td>Best quality,The product looks original-like a...</td>\n",
       "      <td>https://m.media-amazon.com/images/W/WEBP_40237...</td>\n",
       "      <td>https://www.amazon.in/Lapster-compatible-OnePl...</td>\n",
       "    </tr>\n",
       "    <tr>\n",
       "      <th>1019</th>\n",
       "      <td>B0141EZMAI</td>\n",
       "      <td>Gizga Essentials USB WiFi Adapter for PC, 150 ...</td>\n",
       "      <td>Computers&amp;Accessories|NetworkingDevices|Networ...</td>\n",
       "      <td>269.0</td>\n",
       "      <td>800.0</td>\n",
       "      <td>66%</td>\n",
       "      <td>3.6</td>\n",
       "      <td>10,134</td>\n",
       "      <td>USB WiFi Adapter: Fast wireless transmission a...</td>\n",
       "      <td>AGMJ6TDLOVZIR5ZU65TLJFSLG2BQ,AGPK7U5SHXBYBXEWB...</td>\n",
       "      <td>SQL,ARUN KUMAR,veer,Ravi shankar,Shivam Kumar,...</td>\n",
       "      <td>R3AZDEK3MQA3RA,RXF3HCCBWV0VB,R6CVYFDUXBS36,R1Q...</td>\n",
       "      <td>Will not work with new system,Veri good,Ok pro...</td>\n",
       "      <td>Was working fine with window 10 old computer b...</td>\n",
       "      <td>https://m.media-amazon.com/images/W/WEBP_40237...</td>\n",
       "      <td>https://www.amazon.in/Receiver-300Mbps-802-11b...</td>\n",
       "    </tr>\n",
       "  </tbody>\n",
       "</table>\n",
       "<p>128 rows × 16 columns</p>\n",
       "</div>"
      ],
      "text/plain": [
       "      Product ID                                            Product   \n",
       "290   B09TY4MSH3                                   Firestick Remote  \\\n",
       "296   B09HK9JH4F  Smashtronics® - Case for Firetv Remote, Fire S...   \n",
       "364   B0BF54972T  Fire-Boltt Ninja Call Pro Plus 1.83\" Smart Wat...   \n",
       "368   B0BF563HB4  Fire-Boltt Ninja Call Pro Plus 1.83\" Smart Wat...   \n",
       "369   B07JW9H4J1  Wayona Nylon Braided USB to Lightning Fast Cha...   \n",
       "...          ...                                                ...   \n",
       "1007  B0B9BXKBC7  WeCool S5 Long Selfie Stick, with Large Reinfo...   \n",
       "1010  B07GVGTSLN  Wayona Usb Type C Fast Charger Cable Fast Char...   \n",
       "1017  B0B9BD2YL4  KINGONE Wireless Charging Pencil (2nd Generati...   \n",
       "1018  B0BMXMLSMM  Lapster 65W compatible for OnePlus Dash Warp C...   \n",
       "1019  B0141EZMAI  Gizga Essentials USB WiFi Adapter for PC, 150 ...   \n",
       "\n",
       "                                               Category  Discounted Price   \n",
       "290   Electronics|HomeTheater,TV&Video|Accessories|R...            1289.0  \\\n",
       "296   Electronics|HomeTheater,TV&Video|Accessories|R...             199.0   \n",
       "364         Electronics|WearableTechnology|SmartWatches            1799.0   \n",
       "368         Electronics|WearableTechnology|SmartWatches            1799.0   \n",
       "369   Computers&Accessories|Accessories&Peripherals|...             399.0   \n",
       "...                                                 ...               ...   \n",
       "1007  Electronics|Mobiles&Accessories|MobileAccessor...            1799.0   \n",
       "1010  Computers&Accessories|Accessories&Peripherals|...             325.0   \n",
       "1017  Electronics|Mobiles&Accessories|MobileAccessor...            2599.0   \n",
       "1018  Computers&Accessories|Accessories&Peripherals|...             199.0   \n",
       "1019  Computers&Accessories|NetworkingDevices|Networ...             269.0   \n",
       "\n",
       "      Actual Price Discount Per Rating Rating Count   \n",
       "290         2499.0          48%    3.3           73  \\\n",
       "296          399.0          50%    4.2        1,335   \n",
       "364        19999.0          91%    4.2       13,937   \n",
       "368        19999.0          91%    4.2       13,937   \n",
       "369         1099.0          64%    4.2       24,270   \n",
       "...            ...          ...    ...          ...   \n",
       "1007        3999.0          55%    4.6          245   \n",
       "1010        1299.0          75%    4.2       10,576   \n",
       "1017        6999.0          63%    4.5        1,526   \n",
       "1018         999.0          80%    4.5          127   \n",
       "1019         800.0          66%    3.6       10,134   \n",
       "\n",
       "                                            Description   \n",
       "290   by JBDE | Compatible For Amazon Fire TV Stick ...  \\\n",
       "296   【100% Fits】Specially designed for Fire TV Stic...   \n",
       "364   Fire-Boltt is India' No 1 Wearable Watch Brand...   \n",
       "368   Fire-Boltt is India' No 1 Wearable Watch Brand...   \n",
       "369   High Compatibility : Compatible With iPhone 12...   \n",
       "...                                                 ...   \n",
       "1007  64\" Tall Cell Phone Tripods with 7 section adj...   \n",
       "1010  Fast Charge & Data Sync: Fast charge& data tra...   \n",
       "1017  【2022 latest iPad Magnetic Charging】 The lates...   \n",
       "1018  -1 meter type c to c cable fast charging cable...   \n",
       "1019  USB WiFi Adapter: Fast wireless transmission a...   \n",
       "\n",
       "                                                User ID   \n",
       "290   AHH74UTDYQPVBMM4HEEMRAU2DNMQ,AEZYVA7F52G2DCIUP...  \\\n",
       "296   AHGRRV5SETS34URXKM5JR365ZGKA,AFLOF6ZEMEH5APN3L...   \n",
       "364   AEC6UDCEAUIBIFHGQDQ4KR67GC4A,AHRKSUOZXKKDERRY3...   \n",
       "368   AEC6UDCEAUIBIFHGQDQ4KR67GC4A,AHRKSUOZXKKDERRY3...   \n",
       "369   AG3D6O4STAQKAY2UVGEUV46KN35Q,AHMY5CWJMMK5BJRBB...   \n",
       "...                                                 ...   \n",
       "1007  AFPYH3UF3GB4RNX3MX46AXFM2FTQ,AGWEQHJSUA4YCG44R...   \n",
       "1010  AEXK37TSBFHSP2TYE63YPKETWQ7Q,AEKMVX2VDNNX4ZFXI...   \n",
       "1017  AEAX7BRPDS3NSYCZQBQDL5DGZDVA,AFI76LT4UP2L3SFJM...   \n",
       "1018  AHFENRYJG4LPXDTUGEMG335VICSQ,AGSV37DJ5QTUYOXFJ...   \n",
       "1019  AGMJ6TDLOVZIR5ZU65TLJFSLG2BQ,AGPK7U5SHXBYBXEWB...   \n",
       "\n",
       "                                              User Name   \n",
       "290   Harish Thirunahari,Gajanan Hirde,Tomi breeze,v...  \\\n",
       "296   Princey,Subodh Gupta,Amazon Customer,Ram Sarik...   \n",
       "364   venkatesh kg,Raghuram,YOGESH,Manan Parmar,Niku...   \n",
       "368   venkatesh kg,Raghuram,YOGESH,Manan Parmar,Niku...   \n",
       "369   Manav,Adarsh gupta,Sundeep,S.Sayeed Ahmed,jasp...   \n",
       "...                                                 ...   \n",
       "1007  Sujili v,Paras Jain,Shailendra,supreeth achar,...   \n",
       "1010  Sunil Funde,Biju Abraham Thomas,Samir,Rahul Sh...   \n",
       "1017  Ak,Jitesh,anil,Umpo,G'DAS ENTERPRISES,Neetu,Va...   \n",
       "1018  Nadhiyarasan,Saurabh Aggarwal,Dibya,Sai Sriya,...   \n",
       "1019  SQL,ARUN KUMAR,veer,Ravi shankar,Shivam Kumar,...   \n",
       "\n",
       "                                              Review ID   \n",
       "290   R39CZQR3ZPJ0Q7,R1XRT2636AEQEO,R2BSV4B70RKKC8,R...  \\\n",
       "296   RCI40FPILZN2J,R33GJM990WL2D,R2IZDWTSBD3OJD,R18...   \n",
       "364   R1PKIMKR1E8X8T,R23UV7ZBIEEZD3,RYRHNVDKS5RFY,RS...   \n",
       "368   R1PKIMKR1E8X8T,R23UV7ZBIEEZD3,RYRHNVDKS5RFY,RS...   \n",
       "369   R3HXWT0LRP0NMF,R2AJM3LFTLZHFO,R6AQJGUP6P86,R1K...   \n",
       "...                                                 ...   \n",
       "1007  R2MI4KSWYUEMDR,R2MNYKDL2UII1M,R2C6TUBM6IVLB0,R...   \n",
       "1010  R10365HEDURWI9,R5RP542IMC4OI,RX2HFWXTTQDTS,R26...   \n",
       "1017  R1HOV97NOJFX4W,R3BIRU7WH404ND,RAU26U2KP1OQH,R1...   \n",
       "1018  R14ZOPYFHOYYRQ,R1GQH74NUCJZZ7,R1BNWIYBRSI1Z6,R...   \n",
       "1019  R3AZDEK3MQA3RA,RXF3HCCBWV0VB,R6CVYFDUXBS36,R1Q...   \n",
       "\n",
       "                                                 Review   \n",
       "290   Not how original remote works,Chinese quality,...  \\\n",
       "296   Cover is Little loose for Fire remote cover,I ...   \n",
       "364   Worth the money,Good smart watch,the screen do...   \n",
       "368   Worth the money,Good smart watch,the screen do...   \n",
       "369   Satisfied,Charging is really fast,Value for mo...   \n",
       "...                                                 ...   \n",
       "1007  Good,Good Product but Little expensive.,Happy ...   \n",
       "1010  Nice product .,Good quality Braided cable, VFM...   \n",
       "1017  Quite Good,good pencil,Value for money,Brillia...   \n",
       "1018  Super charger in lapster,Best among the rest,C...   \n",
       "1019  Will not work with new system,Veri good,Ok pro...   \n",
       "\n",
       "                                                Content   \n",
       "290   I bought this remote as My original remote of ...  \\\n",
       "296   All is good except little loose cover,I ordere...   \n",
       "364   I liked it, worth the money, light weight and ...   \n",
       "368   I liked it, worth the money, light weight and ...   \n",
       "369   Looks durable Charging is fine tooNo complains...   \n",
       "...                                                 ...   \n",
       "1007  Good,Thoda sa kam stable hai, phone lagane ke ...   \n",
       "1010  Sturdy packing, good product!,Have used this b...   \n",
       "1017  After 10 days of use bhaut acha chl rha ha and...   \n",
       "1018  Best quality,The product looks original-like a...   \n",
       "1019  Was working fine with window 10 old computer b...   \n",
       "\n",
       "                                             Image Link   \n",
       "290   https://m.media-amazon.com/images/I/31jcyZIAWW...  \\\n",
       "296   https://m.media-amazon.com/images/W/WEBP_40237...   \n",
       "364   https://m.media-amazon.com/images/I/41mzbWC6Ak...   \n",
       "368   https://m.media-amazon.com/images/I/41ivjqdXb0...   \n",
       "369   https://m.media-amazon.com/images/I/51UsScvHQN...   \n",
       "...                                                 ...   \n",
       "1007  https://m.media-amazon.com/images/I/41fDM4QUfv...   \n",
       "1010  https://m.media-amazon.com/images/I/41J6oGU8w5...   \n",
       "1017  https://m.media-amazon.com/images/I/217Lv1D3bH...   \n",
       "1018  https://m.media-amazon.com/images/W/WEBP_40237...   \n",
       "1019  https://m.media-amazon.com/images/W/WEBP_40237...   \n",
       "\n",
       "                                           Product Link  \n",
       "290   https://www.amazon.in/V-smash-Firestick-Remote...  \n",
       "296   https://www.amazon.in/Smashtronics%C2%AE-Silic...  \n",
       "364   https://www.amazon.in/Fire-Boltt-Bluetooth-Cal...  \n",
       "368   https://www.amazon.in/Fire-Boltt-Bluetooth-Cal...  \n",
       "369   https://www.amazon.in/Wayona-Braided-WN3LG1-Sy...  \n",
       "...                                                 ...  \n",
       "1007  https://www.amazon.in/WeCool-Reinforced-Functi...  \n",
       "1010  https://www.amazon.in/Wayona-Cable-Braided-Cha...  \n",
       "1017  https://www.amazon.in/Wireless-Generation-Sens...  \n",
       "1018  https://www.amazon.in/Lapster-compatible-OnePl...  \n",
       "1019  https://www.amazon.in/Receiver-300Mbps-802-11b...  \n",
       "\n",
       "[128 rows x 16 columns]"
      ]
     },
     "execution_count": 10,
     "metadata": {},
     "output_type": "execute_result"
    }
   ],
   "source": [
    "data.loc[data.duplicated(subset= ['Product'])]"
   ]
  },
  {
   "cell_type": "code",
   "execution_count": 11,
   "id": "7eb38ea3",
   "metadata": {},
   "outputs": [
    {
     "name": "stdout",
     "output_type": "stream",
     "text": [
      "128\n"
     ]
    }
   ],
   "source": [
    "print(data.duplicated(subset = ['Product']).sum())"
   ]
  },
  {
   "cell_type": "code",
   "execution_count": 12,
   "id": "ff87399d",
   "metadata": {},
   "outputs": [
    {
     "data": {
      "text/html": [
       "<div>\n",
       "<style scoped>\n",
       "    .dataframe tbody tr th:only-of-type {\n",
       "        vertical-align: middle;\n",
       "    }\n",
       "\n",
       "    .dataframe tbody tr th {\n",
       "        vertical-align: top;\n",
       "    }\n",
       "\n",
       "    .dataframe thead th {\n",
       "        text-align: right;\n",
       "    }\n",
       "</style>\n",
       "<table border=\"1\" class=\"dataframe\">\n",
       "  <thead>\n",
       "    <tr style=\"text-align: right;\">\n",
       "      <th></th>\n",
       "      <th>Product ID</th>\n",
       "      <th>Product</th>\n",
       "      <th>Category</th>\n",
       "      <th>Discounted Price</th>\n",
       "      <th>Actual Price</th>\n",
       "      <th>Discount Per</th>\n",
       "      <th>Rating</th>\n",
       "      <th>Rating Count</th>\n",
       "      <th>Description</th>\n",
       "      <th>User ID</th>\n",
       "      <th>User Name</th>\n",
       "      <th>Review ID</th>\n",
       "      <th>Review</th>\n",
       "      <th>Content</th>\n",
       "      <th>Image Link</th>\n",
       "      <th>Product Link</th>\n",
       "    </tr>\n",
       "  </thead>\n",
       "  <tbody>\n",
       "    <tr>\n",
       "      <th>79</th>\n",
       "      <td>B0BCZCQTJX</td>\n",
       "      <td>Firestick Remote</td>\n",
       "      <td>Electronics|HomeTheater,TV&amp;Video|Accessories|R...</td>\n",
       "      <td>1434.0</td>\n",
       "      <td>3999.0</td>\n",
       "      <td>64%</td>\n",
       "      <td>4.0</td>\n",
       "      <td>32</td>\n",
       "      <td>Compatible For Amazon Fire TV Stick (3rd Gen, ...</td>\n",
       "      <td>AEC5PUIW4OSIDDQED7WLXG2S7TOQ,AGVXOHPJT64ZRYKHI...</td>\n",
       "      <td>Dharminder Singh Singha,Gnana Prasad Gopathi,a...</td>\n",
       "      <td>R35LMI5GBW0RX3,R35IGWMP7EV49V,R3KQ92E1PGHL45,R...</td>\n",
       "      <td>Good Product,Good product for my fire Tv,Over-...</td>\n",
       "      <td>Works well on my 4K Amazone fire TV stick as w...</td>\n",
       "      <td>https://m.media-amazon.com/images/I/31C4z2M8Ti...</td>\n",
       "      <td>https://www.amazon.in/Basesailor-2nd-generatio...</td>\n",
       "    </tr>\n",
       "    <tr>\n",
       "      <th>290</th>\n",
       "      <td>B09TY4MSH3</td>\n",
       "      <td>Firestick Remote</td>\n",
       "      <td>Electronics|HomeTheater,TV&amp;Video|Accessories|R...</td>\n",
       "      <td>1289.0</td>\n",
       "      <td>2499.0</td>\n",
       "      <td>48%</td>\n",
       "      <td>3.3</td>\n",
       "      <td>73</td>\n",
       "      <td>by JBDE | Compatible For Amazon Fire TV Stick ...</td>\n",
       "      <td>AHH74UTDYQPVBMM4HEEMRAU2DNMQ,AEZYVA7F52G2DCIUP...</td>\n",
       "      <td>Harish Thirunahari,Gajanan Hirde,Tomi breeze,v...</td>\n",
       "      <td>R39CZQR3ZPJ0Q7,R1XRT2636AEQEO,R2BSV4B70RKKC8,R...</td>\n",
       "      <td>Not how original remote works,Chinese quality,...</td>\n",
       "      <td>I bought this remote as My original remote of ...</td>\n",
       "      <td>https://m.media-amazon.com/images/I/31jcyZIAWW...</td>\n",
       "      <td>https://www.amazon.in/V-smash-Firestick-Remote...</td>\n",
       "    </tr>\n",
       "  </tbody>\n",
       "</table>\n",
       "</div>"
      ],
      "text/plain": [
       "     Product ID           Product   \n",
       "79   B0BCZCQTJX  Firestick Remote  \\\n",
       "290  B09TY4MSH3  Firestick Remote   \n",
       "\n",
       "                                              Category  Discounted Price   \n",
       "79   Electronics|HomeTheater,TV&Video|Accessories|R...            1434.0  \\\n",
       "290  Electronics|HomeTheater,TV&Video|Accessories|R...            1289.0   \n",
       "\n",
       "     Actual Price Discount Per Rating Rating Count   \n",
       "79         3999.0          64%    4.0           32  \\\n",
       "290        2499.0          48%    3.3           73   \n",
       "\n",
       "                                           Description   \n",
       "79   Compatible For Amazon Fire TV Stick (3rd Gen, ...  \\\n",
       "290  by JBDE | Compatible For Amazon Fire TV Stick ...   \n",
       "\n",
       "                                               User ID   \n",
       "79   AEC5PUIW4OSIDDQED7WLXG2S7TOQ,AGVXOHPJT64ZRYKHI...  \\\n",
       "290  AHH74UTDYQPVBMM4HEEMRAU2DNMQ,AEZYVA7F52G2DCIUP...   \n",
       "\n",
       "                                             User Name   \n",
       "79   Dharminder Singh Singha,Gnana Prasad Gopathi,a...  \\\n",
       "290  Harish Thirunahari,Gajanan Hirde,Tomi breeze,v...   \n",
       "\n",
       "                                             Review ID   \n",
       "79   R35LMI5GBW0RX3,R35IGWMP7EV49V,R3KQ92E1PGHL45,R...  \\\n",
       "290  R39CZQR3ZPJ0Q7,R1XRT2636AEQEO,R2BSV4B70RKKC8,R...   \n",
       "\n",
       "                                                Review   \n",
       "79   Good Product,Good product for my fire Tv,Over-...  \\\n",
       "290  Not how original remote works,Chinese quality,...   \n",
       "\n",
       "                                               Content   \n",
       "79   Works well on my 4K Amazone fire TV stick as w...  \\\n",
       "290  I bought this remote as My original remote of ...   \n",
       "\n",
       "                                            Image Link   \n",
       "79   https://m.media-amazon.com/images/I/31C4z2M8Ti...  \\\n",
       "290  https://m.media-amazon.com/images/I/31jcyZIAWW...   \n",
       "\n",
       "                                          Product Link  \n",
       "79   https://www.amazon.in/Basesailor-2nd-generatio...  \n",
       "290  https://www.amazon.in/V-smash-Firestick-Remote...  "
      ]
     },
     "execution_count": 12,
     "metadata": {},
     "output_type": "execute_result"
    }
   ],
   "source": [
    "data.query('Product == \"Firestick Remote\"')"
   ]
  },
  {
   "cell_type": "code",
   "execution_count": 13,
   "id": "a48a155a",
   "metadata": {},
   "outputs": [
    {
     "data": {
      "text/plain": [
       "(1344, 16)"
      ]
     },
     "execution_count": 13,
     "metadata": {},
     "output_type": "execute_result"
    }
   ],
   "source": [
    "df = data.loc[~data.duplicated(subset = ['Product', 'Discounted Price', 'Actual Price', 'Rating'])]\n",
    "df.shape"
   ]
  },
  {
   "cell_type": "code",
   "execution_count": 14,
   "id": "d7a90d70",
   "metadata": {},
   "outputs": [
    {
     "data": {
      "text/plain": [
       "0"
      ]
     },
     "execution_count": 14,
     "metadata": {},
     "output_type": "execute_result"
    }
   ],
   "source": [
    "df.duplicated().sum()"
   ]
  },
  {
   "cell_type": "code",
   "execution_count": 15,
   "id": "81c6438d",
   "metadata": {},
   "outputs": [
    {
     "data": {
      "text/plain": [
       "Product ID          0\n",
       "Product             0\n",
       "Category            0\n",
       "Discounted Price    0\n",
       "Actual Price        0\n",
       "Discount Per        0\n",
       "Rating              0\n",
       "Rating Count        2\n",
       "Description         0\n",
       "User ID             0\n",
       "User Name           0\n",
       "Review ID           0\n",
       "Review              0\n",
       "Content             0\n",
       "Image Link          0\n",
       "Product Link        0\n",
       "dtype: int64"
      ]
     },
     "execution_count": 15,
     "metadata": {},
     "output_type": "execute_result"
    }
   ],
   "source": [
    "df.isnull().sum()"
   ]
  },
  {
   "cell_type": "code",
   "execution_count": 16,
   "id": "9e6588c4",
   "metadata": {},
   "outputs": [
    {
     "name": "stderr",
     "output_type": "stream",
     "text": [
      "C:\\Users\\agp07\\AppData\\Local\\Temp\\ipykernel_6460\\1379821321.py:1: SettingWithCopyWarning: \n",
      "A value is trying to be set on a copy of a slice from a DataFrame\n",
      "\n",
      "See the caveats in the documentation: https://pandas.pydata.org/pandas-docs/stable/user_guide/indexing.html#returning-a-view-versus-a-copy\n",
      "  df.dropna(inplace=True)\n"
     ]
    }
   ],
   "source": [
    "df.dropna(inplace=True)"
   ]
  },
  {
   "cell_type": "code",
   "execution_count": 17,
   "id": "e5bceb45",
   "metadata": {},
   "outputs": [
    {
     "data": {
      "text/plain": [
       "Product ID          0\n",
       "Product             0\n",
       "Category            0\n",
       "Discounted Price    0\n",
       "Actual Price        0\n",
       "Discount Per        0\n",
       "Rating              0\n",
       "Rating Count        0\n",
       "Description         0\n",
       "User ID             0\n",
       "User Name           0\n",
       "Review ID           0\n",
       "Review              0\n",
       "Content             0\n",
       "Image Link          0\n",
       "Product Link        0\n",
       "dtype: int64"
      ]
     },
     "execution_count": 17,
     "metadata": {},
     "output_type": "execute_result"
    }
   ],
   "source": [
    "df.isnull().sum()"
   ]
  },
  {
   "cell_type": "code",
   "execution_count": 18,
   "id": "abb7334a",
   "metadata": {},
   "outputs": [
    {
     "data": {
      "text/plain": [
       "Index(['Product ID', 'Product', 'Category', 'Discounted Price', 'Actual Price',\n",
       "       'Discount Per', 'Rating', 'Rating Count', 'Description', 'User ID',\n",
       "       'User Name', 'Review ID', 'Review', 'Content', 'Image Link',\n",
       "       'Product Link'],\n",
       "      dtype='object')"
      ]
     },
     "execution_count": 18,
     "metadata": {},
     "output_type": "execute_result"
    }
   ],
   "source": [
    "df.columns"
   ]
  },
  {
   "cell_type": "code",
   "execution_count": 19,
   "id": "1f556fb2",
   "metadata": {},
   "outputs": [],
   "source": [
    "# Drop the unnecessary columns\n",
    "df = df.drop(['Description', 'User ID', 'User Name', 'Review ID', 'Review', 'Content', 'Image Link', 'Product Link'], axis = 1)"
   ]
  },
  {
   "cell_type": "code",
   "execution_count": 20,
   "id": "d74574df",
   "metadata": {},
   "outputs": [
    {
     "data": {
      "text/plain": [
       "Index(['Product ID', 'Product', 'Category', 'Discounted Price', 'Actual Price',\n",
       "       'Discount Per', 'Rating', 'Rating Count'],\n",
       "      dtype='object')"
      ]
     },
     "execution_count": 20,
     "metadata": {},
     "output_type": "execute_result"
    }
   ],
   "source": [
    "df.columns"
   ]
  },
  {
   "cell_type": "code",
   "execution_count": 21,
   "id": "5be41b92",
   "metadata": {},
   "outputs": [
    {
     "data": {
      "text/plain": [
       "Product ID           object\n",
       "Product              object\n",
       "Category             object\n",
       "Discounted Price    float64\n",
       "Actual Price        float64\n",
       "Discount Per         object\n",
       "Rating               object\n",
       "Rating Count         object\n",
       "dtype: object"
      ]
     },
     "execution_count": 21,
     "metadata": {},
     "output_type": "execute_result"
    }
   ],
   "source": [
    "# Check for outliers in the dataset\n",
    "df.dtypes"
   ]
  },
  {
   "cell_type": "code",
   "execution_count": 22,
   "id": "6bc32cda",
   "metadata": {},
   "outputs": [
    {
     "data": {
      "text/plain": [
       "array(['4.2', '4.0', '3.9', '4.1', '4.3', '4.4', '4.5', '3.7', '3.3',\n",
       "       '3.6', '3.4', '3.8', '3.5', '4.6', '3.2', '5.0', '4.7', '3.0',\n",
       "       '2.8', '4', '3.1', '4.8', '2.3', '|', '2', '3', '2.6', '2.9'],\n",
       "      dtype=object)"
      ]
     },
     "execution_count": 22,
     "metadata": {},
     "output_type": "execute_result"
    }
   ],
   "source": [
    "df['Rating'].unique()"
   ]
  },
  {
   "cell_type": "code",
   "execution_count": 23,
   "id": "d701a5b1",
   "metadata": {},
   "outputs": [],
   "source": [
    "df['Rating'] = df['Rating'].str.replace('[^0-9.]', '0.0', regex=True)"
   ]
  },
  {
   "cell_type": "code",
   "execution_count": 24,
   "id": "6de50a7b",
   "metadata": {},
   "outputs": [
    {
     "data": {
      "text/plain": [
       "array(['4.2', '4.0', '3.9', '4.1', '4.3', '4.4', '4.5', '3.7', '3.3',\n",
       "       '3.6', '3.4', '3.8', '3.5', '4.6', '3.2', '5.0', '4.7', '3.0',\n",
       "       '2.8', '4', '3.1', '4.8', '2.3', '0.0', '2', '3', '2.6', '2.9'],\n",
       "      dtype=object)"
      ]
     },
     "execution_count": 24,
     "metadata": {},
     "output_type": "execute_result"
    }
   ],
   "source": [
    "df['Rating'].unique()"
   ]
  },
  {
   "cell_type": "code",
   "execution_count": 25,
   "id": "fbd14f50",
   "metadata": {},
   "outputs": [],
   "source": [
    "df['Rating'] = df['Rating'].astype(float)"
   ]
  },
  {
   "cell_type": "code",
   "execution_count": 26,
   "id": "a4749114",
   "metadata": {},
   "outputs": [
    {
     "data": {
      "text/plain": [
       "array(['64%', '43%', '90%', '53%', '61%', '85%', '65%', '23%', '50%',\n",
       "       '33%', '55%', '63%', '69%', '60%', '13%', '44%', '38%', '39%',\n",
       "       '46%', '41%', '70%', '42%', '72%', '25%', '51%', '73%', '0%',\n",
       "       '80%', '28%', '67%', '58%', '35%', '45%', '62%', '54%', '27%',\n",
       "       '77%', '56%', '78%', '31%', '86%', '47%', '37%', '75%', '32%',\n",
       "       '68%', '66%', '22%', '57%', '17%', '52%', '88%', '20%', '59%',\n",
       "       '40%', '26%', '29%', '83%', '71%', '15%', '76%', '48%', '82%',\n",
       "       '36%', '89%', '87%', '24%', '34%', '11%', '91%', '7%', '19%',\n",
       "       '79%', '21%', '81%', '18%', '49%', '30%', '84%', '10%', '6%',\n",
       "       '14%', '74%', '4%', '5%', '16%', '8%', '2%', '94%', '12%', '3%',\n",
       "       '9%'], dtype=object)"
      ]
     },
     "execution_count": 26,
     "metadata": {},
     "output_type": "execute_result"
    }
   ],
   "source": [
    "df['Discount Per'].unique()"
   ]
  },
  {
   "cell_type": "code",
   "execution_count": 27,
   "id": "68326249",
   "metadata": {},
   "outputs": [],
   "source": [
    "df['Discount Per'] = df['Discount Per'].str.replace('%', '', regex=True)"
   ]
  },
  {
   "cell_type": "code",
   "execution_count": 28,
   "id": "05d691f5",
   "metadata": {},
   "outputs": [
    {
     "data": {
      "text/plain": [
       "array(['64', '43', '90', '53', '61', '85', '65', '23', '50', '33', '55',\n",
       "       '63', '69', '60', '13', '44', '38', '39', '46', '41', '70', '42',\n",
       "       '72', '25', '51', '73', '0', '80', '28', '67', '58', '35', '45',\n",
       "       '62', '54', '27', '77', '56', '78', '31', '86', '47', '37', '75',\n",
       "       '32', '68', '66', '22', '57', '17', '52', '88', '20', '59', '40',\n",
       "       '26', '29', '83', '71', '15', '76', '48', '82', '36', '89', '87',\n",
       "       '24', '34', '11', '91', '7', '19', '79', '21', '81', '18', '49',\n",
       "       '30', '84', '10', '6', '14', '74', '4', '5', '16', '8', '2', '94',\n",
       "       '12', '3', '9'], dtype=object)"
      ]
     },
     "execution_count": 28,
     "metadata": {},
     "output_type": "execute_result"
    }
   ],
   "source": [
    "df['Discount Per'].unique()"
   ]
  },
  {
   "cell_type": "code",
   "execution_count": 29,
   "id": "0a03f729",
   "metadata": {},
   "outputs": [],
   "source": [
    "df['Discount Per'] = df['Discount Per'].astype(float)"
   ]
  },
  {
   "cell_type": "code",
   "execution_count": 30,
   "id": "62a05b43",
   "metadata": {},
   "outputs": [
    {
     "data": {
      "text/plain": [
       "array(['24,269', '43,994', '7,928', ..., '468', '8,031', '6,987'],\n",
       "      dtype=object)"
      ]
     },
     "execution_count": 30,
     "metadata": {},
     "output_type": "execute_result"
    }
   ],
   "source": [
    "df['Rating Count'].unique()"
   ]
  },
  {
   "cell_type": "code",
   "execution_count": 31,
   "id": "a4266b0c",
   "metadata": {},
   "outputs": [],
   "source": [
    "df['Rating Count'] = df['Rating Count'].str.replace(',', '', regex=True)"
   ]
  },
  {
   "cell_type": "code",
   "execution_count": 32,
   "id": "00e2224c",
   "metadata": {},
   "outputs": [
    {
     "data": {
      "text/plain": [
       "array(['24269', '43994', '7928', ..., '468', '8031', '6987'], dtype=object)"
      ]
     },
     "execution_count": 32,
     "metadata": {},
     "output_type": "execute_result"
    }
   ],
   "source": [
    "df['Rating Count'].unique()"
   ]
  },
  {
   "cell_type": "code",
   "execution_count": 33,
   "id": "821bfb49",
   "metadata": {},
   "outputs": [],
   "source": [
    "df['Rating Count'] = df['Rating Count'].astype(float)"
   ]
  },
  {
   "cell_type": "code",
   "execution_count": 34,
   "id": "9faf6c52",
   "metadata": {},
   "outputs": [
    {
     "data": {
      "text/plain": [
       "Product ID           object\n",
       "Product              object\n",
       "Category             object\n",
       "Discounted Price    float64\n",
       "Actual Price        float64\n",
       "Discount Per        float64\n",
       "Rating              float64\n",
       "Rating Count        float64\n",
       "dtype: object"
      ]
     },
     "execution_count": 34,
     "metadata": {},
     "output_type": "execute_result"
    }
   ],
   "source": [
    "df.dtypes"
   ]
  },
  {
   "cell_type": "code",
   "execution_count": 35,
   "id": "3e882505",
   "metadata": {},
   "outputs": [
    {
     "data": {
      "text/html": [
       "<div>\n",
       "<style scoped>\n",
       "    .dataframe tbody tr th:only-of-type {\n",
       "        vertical-align: middle;\n",
       "    }\n",
       "\n",
       "    .dataframe tbody tr th {\n",
       "        vertical-align: top;\n",
       "    }\n",
       "\n",
       "    .dataframe thead th {\n",
       "        text-align: right;\n",
       "    }\n",
       "</style>\n",
       "<table border=\"1\" class=\"dataframe\">\n",
       "  <thead>\n",
       "    <tr style=\"text-align: right;\">\n",
       "      <th></th>\n",
       "      <th>Discounted Price</th>\n",
       "      <th>Actual Price</th>\n",
       "      <th>Discount Per</th>\n",
       "      <th>Rating</th>\n",
       "      <th>Rating Count</th>\n",
       "    </tr>\n",
       "  </thead>\n",
       "  <tbody>\n",
       "    <tr>\n",
       "      <th>count</th>\n",
       "      <td>1342.000000</td>\n",
       "      <td>1342.000000</td>\n",
       "      <td>1342.000000</td>\n",
       "      <td>1342.000000</td>\n",
       "      <td>1342.000000</td>\n",
       "    </tr>\n",
       "    <tr>\n",
       "      <th>mean</th>\n",
       "      <td>3278.544091</td>\n",
       "      <td>5604.604784</td>\n",
       "      <td>46.584203</td>\n",
       "      <td>4.088077</td>\n",
       "      <td>17700.121461</td>\n",
       "    </tr>\n",
       "    <tr>\n",
       "      <th>std</th>\n",
       "      <td>7170.339634</td>\n",
       "      <td>11195.180825</td>\n",
       "      <td>21.531587</td>\n",
       "      <td>0.316239</td>\n",
       "      <td>42373.868095</td>\n",
       "    </tr>\n",
       "    <tr>\n",
       "      <th>min</th>\n",
       "      <td>39.000000</td>\n",
       "      <td>39.000000</td>\n",
       "      <td>0.000000</td>\n",
       "      <td>0.000000</td>\n",
       "      <td>2.000000</td>\n",
       "    </tr>\n",
       "    <tr>\n",
       "      <th>25%</th>\n",
       "      <td>349.000000</td>\n",
       "      <td>899.000000</td>\n",
       "      <td>31.000000</td>\n",
       "      <td>3.900000</td>\n",
       "      <td>1093.250000</td>\n",
       "    </tr>\n",
       "    <tr>\n",
       "      <th>50%</th>\n",
       "      <td>889.000000</td>\n",
       "      <td>1762.500000</td>\n",
       "      <td>49.000000</td>\n",
       "      <td>4.100000</td>\n",
       "      <td>4719.500000</td>\n",
       "    </tr>\n",
       "    <tr>\n",
       "      <th>75%</th>\n",
       "      <td>2099.000000</td>\n",
       "      <td>4493.750000</td>\n",
       "      <td>62.000000</td>\n",
       "      <td>4.300000</td>\n",
       "      <td>15847.750000</td>\n",
       "    </tr>\n",
       "    <tr>\n",
       "      <th>max</th>\n",
       "      <td>77990.000000</td>\n",
       "      <td>139900.000000</td>\n",
       "      <td>94.000000</td>\n",
       "      <td>5.000000</td>\n",
       "      <td>426973.000000</td>\n",
       "    </tr>\n",
       "  </tbody>\n",
       "</table>\n",
       "</div>"
      ],
      "text/plain": [
       "       Discounted Price   Actual Price  Discount Per       Rating   \n",
       "count       1342.000000    1342.000000   1342.000000  1342.000000  \\\n",
       "mean        3278.544091    5604.604784     46.584203     4.088077   \n",
       "std         7170.339634   11195.180825     21.531587     0.316239   \n",
       "min           39.000000      39.000000      0.000000     0.000000   \n",
       "25%          349.000000     899.000000     31.000000     3.900000   \n",
       "50%          889.000000    1762.500000     49.000000     4.100000   \n",
       "75%         2099.000000    4493.750000     62.000000     4.300000   \n",
       "max        77990.000000  139900.000000     94.000000     5.000000   \n",
       "\n",
       "        Rating Count  \n",
       "count    1342.000000  \n",
       "mean    17700.121461  \n",
       "std     42373.868095  \n",
       "min         2.000000  \n",
       "25%      1093.250000  \n",
       "50%      4719.500000  \n",
       "75%     15847.750000  \n",
       "max    426973.000000  "
      ]
     },
     "execution_count": 35,
     "metadata": {},
     "output_type": "execute_result"
    }
   ],
   "source": [
    "# Find the outliers and statisctical analysis by doing .describe()\n",
    "df.describe()"
   ]
  },
  {
   "cell_type": "code",
   "execution_count": 36,
   "id": "027b4387",
   "metadata": {},
   "outputs": [
    {
     "data": {
      "text/plain": [
       "array(['Computers&Accessories|Accessories&Peripherals|Cables&Accessories|Cables|USBCables',\n",
       "       'Computers&Accessories|NetworkingDevices|NetworkAdapters|WirelessUSBAdapters',\n",
       "       'Electronics|HomeTheater,TV&Video|Accessories|Cables|HDMICables',\n",
       "       'Electronics|HomeTheater,TV&Video|Televisions|SmartTelevisions',\n",
       "       'Electronics|HomeTheater,TV&Video|Accessories|RemoteControls',\n",
       "       'Electronics|HomeTheater,TV&Video|Televisions|StandardTelevisions',\n",
       "       'Electronics|HomeTheater,TV&Video|Accessories|TVMounts,Stands&Turntables|TVWall&CeilingMounts',\n",
       "       'Electronics|HomeTheater,TV&Video|Accessories|Cables|RCACables',\n",
       "       'Electronics|HomeAudio|Accessories|SpeakerAccessories|Mounts',\n",
       "       'Electronics|HomeTheater,TV&Video|Accessories|Cables|OpticalCables',\n",
       "       'Electronics|HomeTheater,TV&Video|Projectors',\n",
       "       'Electronics|HomeAudio|Accessories|Adapters',\n",
       "       'Electronics|HomeTheater,TV&Video|SatelliteEquipment|SatelliteReceivers',\n",
       "       'Computers&Accessories|Accessories&Peripherals|Cables&Accessories|Cables|DVICables',\n",
       "       'Electronics|HomeTheater,TV&Video|Accessories|Cables|SpeakerCables',\n",
       "       'Electronics|HomeAudio|MediaStreamingDevices|StreamingClients',\n",
       "       'Electronics|HomeTheater,TV&Video|AVReceivers&Amplifiers',\n",
       "       'Electronics|HomeAudio|Speakers|TowerSpeakers',\n",
       "       'Electronics|HomeTheater,TV&Video|Accessories|3DGlasses',\n",
       "       'Electronics|WearableTechnology|SmartWatches',\n",
       "       'Electronics|Mobiles&Accessories|MobileAccessories|Chargers|PowerBanks',\n",
       "       'Electronics|Mobiles&Accessories|Smartphones&BasicMobiles|Smartphones',\n",
       "       'Electronics|Accessories|MemoryCards|MicroSD',\n",
       "       'Electronics|Mobiles&Accessories|Smartphones&BasicMobiles|BasicMobiles',\n",
       "       'Electronics|Headphones,Earbuds&Accessories|Headphones|In-Ear',\n",
       "       'Electronics|Mobiles&Accessories|MobileAccessories|Chargers|AutomobileChargers',\n",
       "       'Electronics|Mobiles&Accessories|MobileAccessories|AutomobileAccessories|Cradles',\n",
       "       'Electronics|Mobiles&Accessories|MobileAccessories|Chargers|WallChargers',\n",
       "       'Electronics|Mobiles&Accessories|MobileAccessories|Cables&Adapters|OTGAdapters',\n",
       "       'Electronics|Mobiles&Accessories|MobileAccessories|Photo&VideoAccessories|Tripods',\n",
       "       'Electronics|Mobiles&Accessories|MobileAccessories|Photo&VideoAccessories|SelfieSticks',\n",
       "       'Electronics|Mobiles&Accessories|MobileAccessories|Stands',\n",
       "       'Computers&Accessories|Accessories&Peripherals|Cables&Accessories|CableConnectionProtectors',\n",
       "       'Electronics|Mobiles&Accessories|MobileAccessories|Décor',\n",
       "       'Electronics|Mobiles&Accessories|MobileAccessories|Maintenance,Upkeep&Repairs|ScreenProtectors',\n",
       "       'Electronics|Mobiles&Accessories|MobileAccessories|StylusPens',\n",
       "       'Electronics|Mobiles&Accessories|MobileAccessories|Mounts|Bedstand&DeskMounts',\n",
       "       'Electronics|Mobiles&Accessories|MobileAccessories|Cases&Covers|BasicCases',\n",
       "       'Electronics|Mobiles&Accessories|MobileAccessories|Mounts|HandlebarMounts',\n",
       "       'Electronics|Headphones,Earbuds&Accessories|Headphones|On-Ear',\n",
       "       'Computers&Accessories|Accessories&Peripherals|LaptopAccessories|CameraPrivacyCovers',\n",
       "       'Electronics|Headphones,Earbuds&Accessories|Adapters',\n",
       "       'Electronics|Mobiles&Accessories|MobileAccessories|Décor|PhoneCharms',\n",
       "       'Electronics|Mobiles&Accessories|MobileAccessories|Mounts|Shower&WallMounts',\n",
       "       'Computers&Accessories|ExternalDevices&DataStorage|PenDrives',\n",
       "       'Computers&Accessories|Accessories&Peripherals|Keyboards,Mice&InputDevices|Mice',\n",
       "       'Computers&Accessories|Accessories&Peripherals|Keyboards,Mice&InputDevices|GraphicTablets',\n",
       "       'Computers&Accessories|Accessories&Peripherals|LaptopAccessories|Lapdesks',\n",
       "       'Computers&Accessories|Accessories&Peripherals|LaptopAccessories|NotebookComputerStands',\n",
       "       'Computers&Accessories|Accessories&Peripherals|Keyboards,Mice&InputDevices|Keyboards',\n",
       "       'MusicalInstruments|Microphones|Condenser',\n",
       "       'Electronics|GeneralPurposeBatteries&BatteryChargers|DisposableBatteries',\n",
       "       'OfficeProducts|OfficePaperProducts|Paper|Stationery|Pens,Pencils&WritingSupplies|Pens&Refills|GelInkRollerballPens',\n",
       "       'Home&Kitchen|CraftMaterials|Scrapbooking|Tape',\n",
       "       'Computers&Accessories|Accessories&Peripherals|Keyboards,Mice&InputDevices|Keyboard&MouseSets',\n",
       "       'Computers&Accessories|ExternalDevices&DataStorage|ExternalHardDisks',\n",
       "       'Electronics|Cameras&Photography|VideoCameras',\n",
       "       'Electronics|Cameras&Photography|Accessories|Tripods&Monopods|Tabletop&TravelTripods',\n",
       "       'OfficeProducts|OfficeElectronics|Calculators|Scientific',\n",
       "       'Computers&Accessories|NetworkingDevices|Repeaters&Extenders',\n",
       "       'Electronics|Cameras&Photography|Accessories|Tripods&Monopods|TripodLegs',\n",
       "       'Computers&Accessories|Printers,Inks&Accessories|Inks,Toners&Cartridges|InkjetInkCartridges',\n",
       "       'Computers&Accessories|Accessories&Peripherals|Keyboards,Mice&InputDevices|Keyboard&MiceAccessories|DustCovers',\n",
       "       'Computers&Accessories|Accessories&Peripherals|PCGamingPeripherals|GamingMice',\n",
       "       'Home&Kitchen|CraftMaterials|PaintingMaterials|Paints',\n",
       "       'Computers&Accessories|Accessories&Peripherals|Keyboards,Mice&InputDevices|Keyboard&MiceAccessories|MousePads',\n",
       "       'Computers&Accessories|Accessories&Peripherals|HardDiskBags',\n",
       "       'Electronics|Cameras&Photography|Flashes|Macro&RinglightFlashes',\n",
       "       'Computers&Accessories|NetworkingDevices',\n",
       "       'Computers&Accessories|NetworkingDevices|Routers',\n",
       "       'Electronics|Headphones,Earbuds&Accessories|Headphones|Over-Ear',\n",
       "       'Electronics|HomeAudio|Speakers|BluetoothSpeakers',\n",
       "       'Electronics|GeneralPurposeBatteries&BatteryChargers',\n",
       "       'OfficeProducts|OfficePaperProducts|Paper|Stationery|Notebooks,WritingPads&Diaries|WireboundNotebooks',\n",
       "       'Electronics|GeneralPurposeBatteries&BatteryChargers|RechargeableBatteries',\n",
       "       'Computers&Accessories|NetworkingDevices|NetworkAdapters|BluetoothAdapters',\n",
       "       'Computers&Accessories|Accessories&Peripherals|Adapters|USBtoUSBAdapters',\n",
       "       'Electronics|Cameras&Photography|Accessories|Tripods&Monopods|CompleteTripodUnits',\n",
       "       'OfficeProducts|OfficePaperProducts|Paper|Stationery|Notebooks,WritingPads&Diaries|Notepads&MemoBooks',\n",
       "       'Electronics|Cameras&Photography|Accessories|Film',\n",
       "       'Computers&Accessories|Monitors',\n",
       "       'Computers&Accessories|Accessories&Peripherals|USBGadgets|Lamps',\n",
       "       'Electronics|Cameras&Photography|Accessories|Cleaners|CleaningKits',\n",
       "       'Electronics|Cameras&Photography|SecurityCameras|DomeCameras',\n",
       "       'Computers&Accessories|Accessories&Peripherals|TabletAccessories|ScreenProtectors',\n",
       "       'Computers&Accessories|Accessories&Peripherals|PCGamingPeripherals|Gamepads',\n",
       "       'OfficeProducts|OfficeElectronics|Calculators|Basic',\n",
       "       'Computers&Accessories|Accessories&Peripherals|USBHubs',\n",
       "       'Computers&Accessories|Accessories&Peripherals|Audio&VideoAccessories|PCMicrophones',\n",
       "       'Electronics|HomeAudio|Speakers|OutdoorSpeakers',\n",
       "       'Computers&Accessories|Accessories&Peripherals|LaptopAccessories|Bags&Sleeves|LaptopSleeves&Slipcases',\n",
       "       'Computers&Accessories|ExternalDevices&DataStorage|ExternalMemoryCardReaders',\n",
       "       'OfficeProducts|OfficePaperProducts|Paper|Stationery|Pens,Pencils&WritingSupplies|Pens&Refills|BottledInk',\n",
       "       'OfficeProducts|OfficePaperProducts|Paper|Stationery|Notebooks,WritingPads&Diaries|CompositionNotebooks',\n",
       "       'OfficeProducts|OfficePaperProducts|Paper|Stationery|Pens,Pencils&WritingSupplies|Pens&Refills|RetractableBallpointPens',\n",
       "       'Computers&Accessories|Accessories&Peripherals|Cables&Accessories|Cables|EthernetCables',\n",
       "       'Computers&Accessories|Components|Memory',\n",
       "       'Computers&Accessories|Accessories&Peripherals|UninterruptedPowerSupplies',\n",
       "       'Electronics|Headphones,Earbuds&Accessories|Cases',\n",
       "       'Electronics|Accessories|MemoryCards|SecureDigitalCards',\n",
       "       'Electronics|Mobiles&Accessories|MobileAccessories|Photo&VideoAccessories|Flashes&SelfieLights|SelfieLights',\n",
       "       'Computers&Accessories|Accessories&Peripherals|Audio&VideoAccessories|Webcams&VoIPEquipment|Webcams',\n",
       "       'Computers&Accessories|Accessories&Peripherals|LaptopAccessories|CoolingPads',\n",
       "       'Computers&Accessories|Accessories&Peripherals|LaptopAccessories',\n",
       "       'Computers&Accessories|Accessories&Peripherals|TabletAccessories|Stands',\n",
       "       'HomeImprovement|Electrical|Adapters&Multi-Outlets',\n",
       "       'OfficeProducts|OfficePaperProducts|Paper|Copy&PrintingPaper|ColouredPaper',\n",
       "       'Computers&Accessories|Components|InternalSolidStateDrives',\n",
       "       'Electronics|HomeAudio|Speakers|MultimediaSpeakerSystems',\n",
       "       'Computers&Accessories|NetworkingDevices|DataCards&Dongles',\n",
       "       'Computers&Accessories|Accessories&Peripherals|LaptopAccessories|LaptopChargers&PowerSupplies',\n",
       "       'Computers&Accessories|Accessories&Peripherals|Audio&VideoAccessories|PCSpeakers',\n",
       "       'Electronics|Cameras&Photography|Accessories|Batteries&Chargers|BatteryChargers',\n",
       "       'Computers&Accessories|Accessories&Peripherals|TabletAccessories|Bags,Cases&Sleeves|Cases',\n",
       "       'OfficeProducts|OfficePaperProducts|Paper|Stationery|Pens,Pencils&WritingSupplies|Pens&Refills|StickBallpointPens',\n",
       "       'Home&Kitchen|CraftMaterials|DrawingMaterials|DrawingMedia|Pencils|WoodenPencils',\n",
       "       'Computers&Accessories|Components|InternalHardDrives',\n",
       "       'Computers&Accessories|Printers,Inks&Accessories|Printers',\n",
       "       'Home&Kitchen|CraftMaterials|DrawingMaterials|DrawingMedia|Pens',\n",
       "       'Computers&Accessories|Accessories&Peripherals|Cables&Accessories|Cables|SATACables',\n",
       "       'Computers&Accessories|Accessories&Peripherals|Audio&VideoAccessories|PCHeadsets',\n",
       "       'Computers&Accessories|Accessories&Peripherals|PCGamingPeripherals|GamingKeyboards',\n",
       "       'Electronics|HomeAudio|Speakers|SoundbarSpeakers',\n",
       "       'Electronics|Headphones,Earbuds&Accessories|Earpads',\n",
       "       'Computers&Accessories|Printers,Inks&Accessories|Printers|InkjetPrinters',\n",
       "       'Toys&Games|Arts&Crafts|Drawing&PaintingSupplies|ColouringPens&Markers',\n",
       "       'Computers&Accessories|Accessories&Peripherals|PCGamingPeripherals|Headsets',\n",
       "       'Computers&Accessories|ExternalDevices&DataStorage|ExternalSolidStateDrives',\n",
       "       'Computers&Accessories|NetworkingDevices|NetworkAdapters|PowerLANAdapters',\n",
       "       'Computers&Accessories|Printers,Inks&Accessories|Inks,Toners&Cartridges|InkjetInkRefills&Kits',\n",
       "       'OfficeProducts|OfficePaperProducts|Paper|Stationery|Notebooks,WritingPads&Diaries',\n",
       "       'Electronics|Cameras&Photography|Accessories|PhotoStudio&Lighting|PhotoBackgroundAccessories|BackgroundSupports',\n",
       "       'OfficeProducts|OfficeElectronics|Calculators|Financial&Business',\n",
       "       'Electronics|PowerAccessories|SurgeProtectors',\n",
       "       'Computers&Accessories|Tablets',\n",
       "       'HomeImprovement|Electrical|CordManagement',\n",
       "       'Home&Kitchen|CraftMaterials|PaintingMaterials',\n",
       "       'Computers&Accessories|Printers,Inks&Accessories|Inks,Toners&Cartridges|TonerCartridges',\n",
       "       'OfficeProducts|OfficePaperProducts|Paper|Stationery|Pens,Pencils&WritingSupplies|Pens&Refills|LiquidInkRollerballPens',\n",
       "       'OfficeProducts|OfficePaperProducts|Paper|Stationery|Pens,Pencils&WritingSupplies|Pens&Refills|FountainPens',\n",
       "       'Computers&Accessories|Accessories&Peripherals|HardDriveAccessories|Caddies',\n",
       "       'Computers&Accessories|Laptops|TraditionalLaptops',\n",
       "       'Home&Kitchen|Kitchen&HomeAppliances|SmallKitchenAppliances|Kettles&HotWaterDispensers|ElectricKettles',\n",
       "       'Home&Kitchen|Heating,Cooling&AirQuality|RoomHeaters|ElectricHeaters',\n",
       "       'Home&Kitchen|Heating,Cooling&AirQuality|RoomHeaters|FanHeaters',\n",
       "       'Home&Kitchen|Kitchen&HomeAppliances|Vacuum,Cleaning&Ironing|Irons,Steamers&Accessories|LintShavers',\n",
       "       'Home&Kitchen|Kitchen&HomeAppliances|SmallKitchenAppliances|DigitalKitchenScales',\n",
       "       'Home&Kitchen|Kitchen&Dining|KitchenTools|ManualChoppers&Chippers|Choppers',\n",
       "       'Home&Kitchen|Kitchen&HomeAppliances|SmallKitchenAppliances|InductionCooktop',\n",
       "       'Home&Kitchen|Kitchen&HomeAppliances|SmallKitchenAppliances|HandBlenders',\n",
       "       'Home&Kitchen|Kitchen&HomeAppliances|Vacuum,Cleaning&Ironing|Irons,Steamers&Accessories|Irons|DryIrons',\n",
       "       'Home&Kitchen|Kitchen&HomeAppliances|SmallKitchenAppliances|MixerGrinders',\n",
       "       'Home&Kitchen|Heating,Cooling&AirQuality|WaterHeaters&Geysers|InstantWaterHeaters',\n",
       "       'Home&Kitchen|Heating,Cooling&AirQuality|RoomHeaters',\n",
       "       'Home&Kitchen|Kitchen&HomeAppliances|SmallKitchenAppliances|Kettles&HotWaterDispensers|Kettle&ToasterSets',\n",
       "       'Home&Kitchen|Heating,Cooling&AirQuality|WaterHeaters&Geysers|StorageWaterHeaters',\n",
       "       'Home&Kitchen|Heating,Cooling&AirQuality|WaterHeaters&Geysers|ImmersionRods',\n",
       "       'Home&Kitchen|Kitchen&HomeAppliances|SmallKitchenAppliances|DeepFatFryers|AirFryers',\n",
       "       'Home&Kitchen|HomeStorage&Organization|LaundryOrganization|LaundryBaskets',\n",
       "       'Home&Kitchen|Kitchen&HomeAppliances|Vacuum,Cleaning&Ironing|Irons,Steamers&Accessories|Irons|SteamIrons',\n",
       "       'Home&Kitchen|Kitchen&HomeAppliances|SmallKitchenAppliances|JuicerMixerGrinders',\n",
       "       'Home&Kitchen|Kitchen&HomeAppliances|Vacuum,Cleaning&Ironing|Vacuums&FloorCare|Vacuums|HandheldVacuums',\n",
       "       'Home&Kitchen|Kitchen&HomeAppliances|SmallKitchenAppliances|EggBoilers',\n",
       "       'Home&Kitchen|Kitchen&HomeAppliances|SmallKitchenAppliances|SandwichMakers',\n",
       "       'Home&Kitchen|Kitchen&HomeAppliances|SmallKitchenAppliances|MiniFoodProcessors&Choppers',\n",
       "       'Home&Kitchen|Kitchen&HomeAppliances|SmallKitchenAppliances|DigitalKitchenScales|DigitalScales',\n",
       "       'Home&Kitchen|Kitchen&HomeAppliances|SmallKitchenAppliances|VacuumSealers',\n",
       "       'Home&Kitchen|Heating,Cooling&AirQuality|Fans|CeilingFans',\n",
       "       'Home&Kitchen|Kitchen&HomeAppliances|Vacuum,Cleaning&Ironing|Vacuums&FloorCare|Vacuums|CanisterVacuums',\n",
       "       'Home&Kitchen|Kitchen&HomeAppliances|Vacuum,Cleaning&Ironing|PressureWashers,Steam&WindowCleaners',\n",
       "       'Home&Kitchen|Heating,Cooling&AirQuality|RoomHeaters|HalogenHeaters',\n",
       "       'Home&Kitchen|Kitchen&HomeAppliances|SmallKitchenAppliances|Pop-upToasters',\n",
       "       'Home&Kitchen|Heating,Cooling&AirQuality|RoomHeaters|HeatConvectors',\n",
       "       'Home&Kitchen|Kitchen&HomeAppliances|Coffee,Tea&Espresso|CoffeeGrinders|ElectricGrinders',\n",
       "       'Home&Kitchen|Heating,Cooling&AirQuality|Fans|ExhaustFans',\n",
       "       'Home&Kitchen|Kitchen&HomeAppliances|Coffee,Tea&Espresso|DripCoffeeMachines',\n",
       "       'Home&Kitchen|Kitchen&HomeAppliances|WaterPurifiers&Accessories|WaterPurifierAccessories',\n",
       "       'Home&Kitchen|Kitchen&HomeAppliances|WaterPurifiers&Accessories|WaterCartridges',\n",
       "       'Home&Kitchen|Kitchen&HomeAppliances|SmallKitchenAppliances|Rice&PastaCookers',\n",
       "       'Car&Motorbike|CarAccessories|InteriorAccessories|AirPurifiers&Ionizers',\n",
       "       'Home&Kitchen|Kitchen&HomeAppliances|Vacuum,Cleaning&Ironing|Vacuums&FloorCare|Vacuums|Wet-DryVacuums',\n",
       "       'Home&Kitchen|Heating,Cooling&AirQuality|AirPurifiers|HEPAAirPurifiers',\n",
       "       'Home&Kitchen|Kitchen&HomeAppliances|WaterPurifiers&Accessories|WaterFilters&Purifiers',\n",
       "       'Home&Kitchen|HomeStorage&Organization|LaundryOrganization|LaundryBags',\n",
       "       'Home&Kitchen|Kitchen&HomeAppliances|SewingMachines&Accessories|Sewing&EmbroideryMachines',\n",
       "       'Home&Kitchen|HomeStorage&Organization|LaundryOrganization|IroningAccessories|SprayBottles',\n",
       "       'Home&Kitchen|Kitchen&HomeAppliances|SmallKitchenAppliances|HandMixers',\n",
       "       'Home&Kitchen|Kitchen&HomeAppliances|SmallKitchenAppliances|Mills&Grinders|WetGrinders',\n",
       "       'Home&Kitchen|Kitchen&HomeAppliances|SmallKitchenAppliances|OvenToasterGrills',\n",
       "       'Home&Kitchen|Kitchen&HomeAppliances|SmallKitchenAppliances|Juicers',\n",
       "       'Home&Kitchen|Kitchen&HomeAppliances|SmallKitchenAppliances',\n",
       "       'Health&PersonalCare|HomeMedicalSupplies&Equipment|HealthMonitors|WeighingScales|DigitalBathroomScales',\n",
       "       'Home&Kitchen|Kitchen&HomeAppliances|Coffee,Tea&Espresso|EspressoMachines',\n",
       "       'Home&Kitchen|Heating,Cooling&AirQuality|Fans|TableFans',\n",
       "       'Home&Kitchen|Kitchen&HomeAppliances|Coffee,Tea&Espresso|MilkFrothers',\n",
       "       'Home&Kitchen|Heating,Cooling&AirQuality|Humidifiers',\n",
       "       'Home&Kitchen|Kitchen&HomeAppliances|SmallKitchenAppliances|SmallApplianceParts&Accessories|StandMixerAccessories',\n",
       "       'Home&Kitchen|Kitchen&HomeAppliances|Vacuum,Cleaning&Ironing|Vacuums&FloorCare|Vacuums|RoboticVacuums',\n",
       "       'Home&Kitchen|Kitchen&HomeAppliances|SmallKitchenAppliances|YogurtMakers',\n",
       "       'Home&Kitchen|Kitchen&HomeAppliances|SmallKitchenAppliances|Juicers|ColdPressJuicers',\n",
       "       'Home&Kitchen|Heating,Cooling&AirQuality|AirConditioners|Split-SystemAirConditioners',\n",
       "       'Home&Kitchen|Kitchen&HomeAppliances|SmallKitchenAppliances|SmallApplianceParts&Accessories',\n",
       "       'Home&Kitchen|Kitchen&HomeAppliances|SmallKitchenAppliances|WaffleMakers&Irons',\n",
       "       'Home&Kitchen|Kitchen&HomeAppliances|Coffee,Tea&Espresso|StovetopEspressoPots',\n",
       "       'Home&Kitchen|Kitchen&HomeAppliances|Coffee,Tea&Espresso|CoffeeMakerAccessories|MeasuringSpoons',\n",
       "       'Home&Kitchen|Kitchen&HomeAppliances|Coffee,Tea&Espresso|CoffeePresses',\n",
       "       'Home&Kitchen|Kitchen&HomeAppliances|SmallKitchenAppliances|RotiMakers',\n",
       "       'Home&Kitchen|Heating,Cooling&AirQuality|Parts&Accessories|FanParts&Accessories',\n",
       "       'Home&Kitchen|Kitchen&HomeAppliances|SmallKitchenAppliances|StandMixers',\n",
       "       'Home&Kitchen|Heating,Cooling&AirQuality|Fans|PedestalFans',\n",
       "       'Home&Kitchen|Kitchen&HomeAppliances|Vacuum,Cleaning&Ironing|Vacuums&FloorCare|VacuumAccessories|VacuumBags|HandheldBags'],\n",
       "      dtype=object)"
      ]
     },
     "execution_count": 36,
     "metadata": {},
     "output_type": "execute_result"
    }
   ],
   "source": [
    "df['Category'].unique()"
   ]
  },
  {
   "cell_type": "code",
   "execution_count": 37,
   "id": "96691d88",
   "metadata": {},
   "outputs": [],
   "source": [
    "# Split the category in Main_Category and Sub_category field.\n",
    "df['Main_Category'] = df['Category'].astype(str).str.split('|').str[0]\n",
    "df['Sub_Category'] = df['Category'].astype(str).str.split('|').str[-1]"
   ]
  },
  {
   "cell_type": "code",
   "execution_count": 38,
   "id": "4462a8d5",
   "metadata": {},
   "outputs": [
    {
     "data": {
      "text/plain": [
       "Index(['Product ID', 'Product', 'Category', 'Discounted Price', 'Actual Price',\n",
       "       'Discount Per', 'Rating', 'Rating Count', 'Main_Category',\n",
       "       'Sub_Category'],\n",
       "      dtype='object')"
      ]
     },
     "execution_count": 38,
     "metadata": {},
     "output_type": "execute_result"
    }
   ],
   "source": [
    "df.columns"
   ]
  },
  {
   "cell_type": "code",
   "execution_count": 39,
   "id": "bdecf5d2",
   "metadata": {},
   "outputs": [
    {
     "data": {
      "text/plain": [
       "array(['Computers&Accessories', 'Electronics', 'MusicalInstruments',\n",
       "       'OfficeProducts', 'Home&Kitchen', 'HomeImprovement', 'Toys&Games',\n",
       "       'Car&Motorbike', 'Health&PersonalCare'], dtype=object)"
      ]
     },
     "execution_count": 39,
     "metadata": {},
     "output_type": "execute_result"
    }
   ],
   "source": [
    "df['Main_Category'].unique()"
   ]
  },
  {
   "cell_type": "code",
   "execution_count": 40,
   "id": "cf5d76eb",
   "metadata": {},
   "outputs": [
    {
     "data": {
      "text/plain": [
       "array(['USBCables', 'WirelessUSBAdapters', 'HDMICables',\n",
       "       'SmartTelevisions', 'RemoteControls', 'StandardTelevisions',\n",
       "       'TVWall&CeilingMounts', 'RCACables', 'Mounts', 'OpticalCables'],\n",
       "      dtype=object)"
      ]
     },
     "execution_count": 40,
     "metadata": {},
     "output_type": "execute_result"
    }
   ],
   "source": [
    "df['Sub_Category'].unique()[:10]"
   ]
  },
  {
   "cell_type": "code",
   "execution_count": 41,
   "id": "ed067b51",
   "metadata": {},
   "outputs": [
    {
     "data": {
      "text/html": [
       "<div>\n",
       "<style scoped>\n",
       "    .dataframe tbody tr th:only-of-type {\n",
       "        vertical-align: middle;\n",
       "    }\n",
       "\n",
       "    .dataframe tbody tr th {\n",
       "        vertical-align: top;\n",
       "    }\n",
       "\n",
       "    .dataframe thead th {\n",
       "        text-align: right;\n",
       "    }\n",
       "</style>\n",
       "<table border=\"1\" class=\"dataframe\">\n",
       "  <thead>\n",
       "    <tr style=\"text-align: right;\">\n",
       "      <th></th>\n",
       "      <th>Product ID</th>\n",
       "      <th>Product</th>\n",
       "      <th>Category</th>\n",
       "      <th>Discounted Price</th>\n",
       "      <th>Actual Price</th>\n",
       "      <th>Discount Per</th>\n",
       "      <th>Rating</th>\n",
       "      <th>Rating Count</th>\n",
       "      <th>Main_Category</th>\n",
       "      <th>Sub_Category</th>\n",
       "    </tr>\n",
       "  </thead>\n",
       "  <tbody>\n",
       "    <tr>\n",
       "      <th>0</th>\n",
       "      <td>B07JW9H4J1</td>\n",
       "      <td>Wayona Nylon Braided USB to Lightning Fast Cha...</td>\n",
       "      <td>Computers&amp;Accessories|Accessories&amp;Peripherals|...</td>\n",
       "      <td>399.0</td>\n",
       "      <td>1099.0</td>\n",
       "      <td>64.0</td>\n",
       "      <td>4.2</td>\n",
       "      <td>24269.0</td>\n",
       "      <td>Computers&amp;Accessories</td>\n",
       "      <td>USBCables</td>\n",
       "    </tr>\n",
       "    <tr>\n",
       "      <th>1</th>\n",
       "      <td>B098NS6PVG</td>\n",
       "      <td>Ambrane Unbreakable 60W / 3A Fast Charging 1.5...</td>\n",
       "      <td>Computers&amp;Accessories|Accessories&amp;Peripherals|...</td>\n",
       "      <td>199.0</td>\n",
       "      <td>349.0</td>\n",
       "      <td>43.0</td>\n",
       "      <td>4.0</td>\n",
       "      <td>43994.0</td>\n",
       "      <td>Computers&amp;Accessories</td>\n",
       "      <td>USBCables</td>\n",
       "    </tr>\n",
       "    <tr>\n",
       "      <th>2</th>\n",
       "      <td>B096MSW6CT</td>\n",
       "      <td>Sounce Fast Phone Charging Cable &amp; Data Sync U...</td>\n",
       "      <td>Computers&amp;Accessories|Accessories&amp;Peripherals|...</td>\n",
       "      <td>199.0</td>\n",
       "      <td>1899.0</td>\n",
       "      <td>90.0</td>\n",
       "      <td>3.9</td>\n",
       "      <td>7928.0</td>\n",
       "      <td>Computers&amp;Accessories</td>\n",
       "      <td>USBCables</td>\n",
       "    </tr>\n",
       "    <tr>\n",
       "      <th>3</th>\n",
       "      <td>B08HDJ86NZ</td>\n",
       "      <td>boAt Deuce USB 300 2 in 1 Type-C &amp; Micro USB S...</td>\n",
       "      <td>Computers&amp;Accessories|Accessories&amp;Peripherals|...</td>\n",
       "      <td>329.0</td>\n",
       "      <td>699.0</td>\n",
       "      <td>53.0</td>\n",
       "      <td>4.2</td>\n",
       "      <td>94363.0</td>\n",
       "      <td>Computers&amp;Accessories</td>\n",
       "      <td>USBCables</td>\n",
       "    </tr>\n",
       "    <tr>\n",
       "      <th>4</th>\n",
       "      <td>B08CF3B7N1</td>\n",
       "      <td>Portronics Konnect L 1.2M Fast Charging 3A 8 P...</td>\n",
       "      <td>Computers&amp;Accessories|Accessories&amp;Peripherals|...</td>\n",
       "      <td>154.0</td>\n",
       "      <td>399.0</td>\n",
       "      <td>61.0</td>\n",
       "      <td>4.2</td>\n",
       "      <td>16905.0</td>\n",
       "      <td>Computers&amp;Accessories</td>\n",
       "      <td>USBCables</td>\n",
       "    </tr>\n",
       "  </tbody>\n",
       "</table>\n",
       "</div>"
      ],
      "text/plain": [
       "   Product ID                                            Product   \n",
       "0  B07JW9H4J1  Wayona Nylon Braided USB to Lightning Fast Cha...  \\\n",
       "1  B098NS6PVG  Ambrane Unbreakable 60W / 3A Fast Charging 1.5...   \n",
       "2  B096MSW6CT  Sounce Fast Phone Charging Cable & Data Sync U...   \n",
       "3  B08HDJ86NZ  boAt Deuce USB 300 2 in 1 Type-C & Micro USB S...   \n",
       "4  B08CF3B7N1  Portronics Konnect L 1.2M Fast Charging 3A 8 P...   \n",
       "\n",
       "                                            Category  Discounted Price   \n",
       "0  Computers&Accessories|Accessories&Peripherals|...             399.0  \\\n",
       "1  Computers&Accessories|Accessories&Peripherals|...             199.0   \n",
       "2  Computers&Accessories|Accessories&Peripherals|...             199.0   \n",
       "3  Computers&Accessories|Accessories&Peripherals|...             329.0   \n",
       "4  Computers&Accessories|Accessories&Peripherals|...             154.0   \n",
       "\n",
       "   Actual Price  Discount Per  Rating  Rating Count          Main_Category   \n",
       "0        1099.0          64.0     4.2       24269.0  Computers&Accessories  \\\n",
       "1         349.0          43.0     4.0       43994.0  Computers&Accessories   \n",
       "2        1899.0          90.0     3.9        7928.0  Computers&Accessories   \n",
       "3         699.0          53.0     4.2       94363.0  Computers&Accessories   \n",
       "4         399.0          61.0     4.2       16905.0  Computers&Accessories   \n",
       "\n",
       "  Sub_Category  \n",
       "0    USBCables  \n",
       "1    USBCables  \n",
       "2    USBCables  \n",
       "3    USBCables  \n",
       "4    USBCables  "
      ]
     },
     "execution_count": 41,
     "metadata": {},
     "output_type": "execute_result"
    }
   ],
   "source": [
    "df.head()"
   ]
  },
  {
   "cell_type": "code",
   "execution_count": 42,
   "id": "7465cbb8",
   "metadata": {},
   "outputs": [],
   "source": [
    "import matplotlib\n",
    "import matplotlib.pyplot as plt\n",
    "import seaborn as sns"
   ]
  },
  {
   "cell_type": "code",
   "execution_count": 43,
   "id": "38722f92",
   "metadata": {},
   "outputs": [
    {
     "data": {
      "text/plain": [
       "<function matplotlib.pyplot.show(close=None, block=None)>"
      ]
     },
     "execution_count": 43,
     "metadata": {},
     "output_type": "execute_result"
    },
    {
     "data": {
      "image/png": "[encoded data removed]",
      "text/plain": [
       "<Figure size 640x480 with 1 Axes>"
      ]
     },
     "metadata": {},
     "output_type": "display_data"
    }
   ],
   "source": [
    "# Regression analysis between two continuous variables discounted price and Actual price\n",
    "sns.regplot(x='Discounted Price', y='Actual Price', data=df)\n",
    "plt.xlabel('Discounted Price')\n",
    "plt.ylabel('Actual Price')\n",
    "plt.title('Relationship between Discounted and Actual Price')\n",
    "plt.show"
   ]
  },
  {
   "cell_type": "code",
   "execution_count": 89,
   "id": "dd7a43fe",
   "metadata": {},
   "outputs": [
    {
     "data": {
      "text/plain": [
       "<AxesSubplot:title={'center':'Top 10 Main Categories'}, xlabel='Main_Category'>"
      ]
     },
     "execution_count": 89,
     "metadata": {},
     "output_type": "execute_result"
    },
    {
     "data": {
      "image/png": "[encoded data removed]",
      "text/plain": [
       "<Figure size 640x480 with 1 Axes>"
      ]
     },
     "metadata": {},
     "output_type": "display_data"
    }
   ],
   "source": [
    "# Bar chart for the Category\n",
    "Main_Cat = df['Main_Category'].value_counts()[:10].sort_values(ascending=False)\n",
    "Main_Cat.plot(kind='bar', title='Top 10 Main Categories')"
   ]
  },
  {
   "cell_type": "code",
   "execution_count": 90,
   "id": "ed1d75ca",
   "metadata": {},
   "outputs": [
    {
     "data": {
      "text/plain": [
       "<AxesSubplot:title={'center':'Top 10 Sub Categories'}, xlabel='Sub_Category'>"
      ]
     },
     "execution_count": 90,
     "metadata": {},
     "output_type": "execute_result"
    },
    {
     "data": {
      "image/png": "[encoded data removed]",
      "text/plain": [
       "<Figure size 640x480 with 1 Axes>"
      ]
     },
     "metadata": {},
     "output_type": "display_data"
    }
   ],
   "source": [
    "Sub_cat = df['Sub_Category'].value_counts()[:10].sort_values(ascending=False)\n",
    "Sub_cat.plot(kind='bar', title='Top 10 Sub Categories')\n"
   ]
  },
  {
   "cell_type": "code",
   "execution_count": 69,
   "id": "e44a3516",
   "metadata": {},
   "outputs": [
    {
     "data": {
      "image/png": "[encoded data removed]",
      "text/plain": [
       "<Figure size 640x480 with 1 Axes>"
      ]
     },
     "metadata": {},
     "output_type": "display_data"
    }
   ],
   "source": [
    "plt.hist(df['Rating'], bins=5)\n",
    "plt.xlabel('Ratings')\n",
    "plt.ylabel('Frequency')\n",
    "plt.title('Distribution of Product Ratings')\n",
    "plt.show()"
   ]
  },
  {
   "cell_type": "code",
   "execution_count": 87,
   "id": "f39b4af1",
   "metadata": {},
   "outputs": [
    {
     "data": {
      "text/plain": [
       "<AxesSubplot:title={'center':'Distribution based on Sub Category'}, ylabel='count'>"
      ]
     },
     "execution_count": 87,
     "metadata": {},
     "output_type": "execute_result"
    },
    {
     "data": {
      "image/png": "[encoded data removed]",
      "text/plain": [
       "<Figure size 640x480 with 1 Axes>"
      ]
     },
     "metadata": {},
     "output_type": "display_data"
    }
   ],
   "source": [
    "df1 = df['Sub_Category'].value_counts()[:10]\n",
    "\n",
    "df1.plot(kind='pie', autopct='%1.1f%%', title='Distribution based on Sub Category')"
   ]
  },
  {
   "cell_type": "code",
   "execution_count": 91,
   "id": "26451688",
   "metadata": {},
   "outputs": [
    {
     "data": {
      "text/plain": [
       "array([4.2, 4. , 3.9, 4.1, 4.3, 4.4, 4.5, 3.7, 3.3, 3.6, 3.4, 3.8, 3.5,\n",
       "       4.6, 3.2, 5. , 4.7, 3. , 2.8, 3.1, 4.8, 2.3, 0. , 2. , 2.6, 2.9])"
      ]
     },
     "execution_count": 91,
     "metadata": {},
     "output_type": "execute_result"
    }
   ],
   "source": [
    "df['Rating'].unique()"
   ]
  },
  {
   "cell_type": "code",
   "execution_count": 100,
   "id": "09065415",
   "metadata": {},
   "outputs": [],
   "source": [
    "# distribution of Ratings by Poor, Below Average, Average, Above Ave and Excellent\n",
    "rating_score = []\n",
    "for score in df['Rating']:\n",
    "    if score < 2.0:\n",
    "        rating_score.append('Poor')\n",
    "    elif score < 3.0:\n",
    "        rating_score.append('Below Average')\n",
    "    elif score < 4.0:\n",
    "        rating_score.append('Average')\n",
    "    elif score < 5.0:\n",
    "        rating_score.append('Above Average')\n",
    "    elif score == 5.0:\n",
    "        rating_score.append('Excellent')"
   ]
  },
  {
   "cell_type": "code",
   "execution_count": 103,
   "id": "5657ddff",
   "metadata": {},
   "outputs": [],
   "source": [
    "df['Ratings'] = rating_score\n",
    "df['Ratings'] = df['Ratings'].astype('category')"
   ]
  },
  {
   "cell_type": "code",
   "execution_count": 109,
   "id": "2ca7fc24",
   "metadata": {},
   "outputs": [
    {
     "data": {
      "text/html": [
       "<div>\n",
       "<style scoped>\n",
       "    .dataframe tbody tr th:only-of-type {\n",
       "        vertical-align: middle;\n",
       "    }\n",
       "\n",
       "    .dataframe tbody tr th {\n",
       "        vertical-align: top;\n",
       "    }\n",
       "\n",
       "    .dataframe thead th {\n",
       "        text-align: right;\n",
       "    }\n",
       "</style>\n",
       "<table border=\"1\" class=\"dataframe\">\n",
       "  <thead>\n",
       "    <tr style=\"text-align: right;\">\n",
       "      <th></th>\n",
       "      <th>Rating_Score</th>\n",
       "      <th>Counts</th>\n",
       "    </tr>\n",
       "  </thead>\n",
       "  <tbody>\n",
       "    <tr>\n",
       "      <th>0</th>\n",
       "      <td>Below Average</td>\n",
       "      <td>6</td>\n",
       "    </tr>\n",
       "    <tr>\n",
       "      <th>1</th>\n",
       "      <td>Average</td>\n",
       "      <td>335</td>\n",
       "    </tr>\n",
       "    <tr>\n",
       "      <th>2</th>\n",
       "      <td>Above Average</td>\n",
       "      <td>998</td>\n",
       "    </tr>\n",
       "    <tr>\n",
       "      <th>3</th>\n",
       "      <td>Excellent</td>\n",
       "      <td>2</td>\n",
       "    </tr>\n",
       "  </tbody>\n",
       "</table>\n",
       "</div>"
      ],
      "text/plain": [
       "    Rating_Score  Counts\n",
       "0  Below Average       6\n",
       "1        Average     335\n",
       "2  Above Average     998\n",
       "3      Excellent       2"
      ]
     },
     "execution_count": 109,
     "metadata": {},
     "output_type": "execute_result"
    }
   ],
   "source": [
    "df3 = df['Ratings'].value_counts().reindex(index = ['Below Average', 'Average', 'Above Average', 'Excellent']).\\\n",
    "                rename_axis('Rating_Score').reset_index(name='Counts')\n",
    "df3"
   ]
  },
  {
   "cell_type": "code",
   "execution_count": 112,
   "id": "fcc07d1c",
   "metadata": {},
   "outputs": [
    {
     "data": {
      "image/png": "[encoded data removed]",
      "text/plain": [
       "<Figure size 640x480 with 1 Axes>"
      ]
     },
     "metadata": {},
     "output_type": "display_data"
    }
   ],
   "source": [
    "plt.bar(x=df3['Rating_Score'], height=df3['Counts'])\n",
    "plt.xlabel('Rating Score')\n",
    "plt.ylabel('Counts')\n",
    "plt.title('Distribution of Rating Score')\n",
    "plt.show()"
   ]
  },
  {
   "cell_type": "markdown",
   "id": "40a3aa4f",
   "metadata": {},
   "source": [
    "#  Comprehensive Report"
   ]
  },
  {
   "cell_type": "markdown",
   "id": "c65fc648",
   "metadata": {},
   "source": [
    "* INTRODUCTION:\n",
    "  This report presents an analysis of a dataset containing 1K+ Amazon product ratings and reviews. The dataset provides details   of various products listed on the official website of Amazon. The objective of this analysis is to gain insights into the       product ratings, prices, categories, and user reviews.\n",
    "\n",
    "\n",
    "* DATA CLEANING:\n",
    "  The dataset was cleaned using the pandas and numpy Python libraries. The following steps were performed during the data         cleaning process:\n",
    "\n",
    " * Duplicates: Duplicate entries in the dataset were identified and removed to ensure data accuracy.\n",
    "   Null Values: Missing values in the dataset were handled appropriately, either by imputing values or removing rows with          missing data.\n",
    " * Variable Types: The data types of certain variables were adjusted to their appropriate types, ensuring consistency and          accuracy in the analysis.\n",
    " * Outliers: Outliers in the dataset were identified and evaluated for their impact on the analysis. Appropriate actions were      taken to handle these outliers.\n",
    " * Statistical Analysis: Descriptive statistics were generated using the .describe() function to gain insights into the central    tendency, dispersion, and distribution of the numerical variables in the dataset.\n",
    "\n",
    "\n",
    "* VISUALIZATION:\n",
    "  Data visualization techniques were employed to explore and present key insights from the dataset. The following visualizations   were created:\n",
    "\n",
    " * 1. Relationship Between Discounted and Actual Price:\n",
    "   A scatter plot was generated to visualize the relationship between the discounted price and actual price of the products.        This plot allows for the identification of any patterns or trends in the pricing structure.\n",
    " * 2. Top 10 Main Categories and Subcategories:\n",
    "   Bar charts were created to showcase the top 10 main categories and subcategories based on their selling numbers. This            visualization helps in understanding the popularity of different categories and subcategories among consumers.\n",
    " * 3. Distribution of Rating Scores:\n",
    "   A pie chart was generated to illustrate the distribution of rating scores given by users. This visualization provides an        overview of the frequency of different rating scores, enabling an understanding of the overall sentiment towards the            products.\n",
    "\n",
    "\n",
    "* KEY FINDINGS:\n",
    "  Based on the analysis of the dataset, the following key findings were observed:\n",
    "\n",
    " * 1. Pricing Analysis:\n",
    "   The scatter plot revealed a positive relationship between the discounted price and actual price of the products, indicating      that higher-priced products tend to have higher discounts.\n",
    "\n",
    " * 2. Top Categories and Subcategories:\n",
    "   The bar charts displayed the top 10 main categories and subcategories, with \"Electronics\" and \"Clothing\" being the most          popular main categories, and \"Laptops\" and \"T-shirts\" being the most popular subcategories.\n",
    " * 3. Rating Distribution:\n",
    "   The pie chart showcased that the majority of products received ratings in the range of 4.0 to 4.5, indicating a generally        positive sentiment among users.\n",
    "\n",
    "\n",
    "* RECOMMENDATIONS:\n",
    "  Based on the analysis conducted, the following recommendations are proposed:\n",
    "\n",
    " * 1. Pricing Strategy:\n",
    "   Further investigation into the relationship between pricing and discounts could provide insights into optimal pricing            strategies to maximize sales and attract more customers.\n",
    "\n",
    " * 2. Focus on Popular Categories and Subcategories:\n",
    "   Since \"Electronics\" and \"Clothing\" are the top-selling main categories, allocating resources and marketing efforts towards      these categories can lead to increased sales and customer engagement. Similarly, focusing on popular subcategories, such as      \"Laptops\" and \"T-shirts,\" can also yield positive results.\n",
    "\n",
    " * 3. Customer Reviews and Feedback:\n",
    "   Analyzing user reviews and feedback can provide valuable insights into product performance and areas for improvement. Conside    leveraging user feedback to enhance product quality, customer satisfaction, and overall brand reputation.\n",
    "\n",
    "\n",
    "* CONCLUSION:\n",
    "  In conclusion, this analysis of the Amazon product ratings and reviews dataset provided valuable insights into the pricing."
   ]
  },
  {
   "cell_type": "code",
   "execution_count": null,
   "id": "9d55325f",
   "metadata": {},
   "outputs": [],
   "source": []
  }
 ],
 "metadata": {
  "kernelspec": {
   "display_name": "Python 3 (ipykernel)",
   "language": "python",
   "name": "python3"
  },
  "language_info": {
   "codemirror_mode": {
    "name": "ipython",
    "version": 3
   },
   "file_extension": ".py",
   "mimetype": "text/x-python",
   "name": "python",
   "nbconvert_exporter": "python",
   "pygments_lexer": "ipython3",
   "version": "3.9.13"
  }
 },
 "nbformat": 4,
 "nbformat_minor": 5
}
